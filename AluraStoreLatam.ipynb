{
  "nbformat": 4,
  "nbformat_minor": 0,
  "metadata": {
    "colab": {
      "provenance": []
    },
    "kernelspec": {
      "name": "python3",
      "display_name": "Python 3"
    },
    "language_info": {
      "name": "python"
    }
  },
  "cells": [
    {
      "cell_type": "markdown",
      "source": [
        "Haz clic en el botón para abrir este notebook en Google Colab:\n",
        "\n",
        "<a href=\"https://colab.research.google.com/github/EuniceGarcia503/Challenge1_AluraStore/blob/main/AluraStoreLatam.ipynb\" target=\"_blank\">\n",
        "  <img src=\"https://colab.research.google.com/assets/colab-badge.svg\" alt=\"Abrir en Colab\" style=\"height: 40px;\">\n",
        "</a>\n"
      ],
      "metadata": {
        "id": "1aHr7Yj15JtW"
      }
    },
    {
      "cell_type": "code",
      "source": [
        "!git config --global user.name \"Eunice García\"\n",
        "!git config --global user.email \"legd.cl26@gmail.com\""
      ],
      "metadata": {
        "id": "rbszpNcnItZm"
      },
      "execution_count": 305,
      "outputs": []
    },
    {
      "cell_type": "markdown",
      "source": [
        "#**💾 Importación de Datos.**\n",
        "\n"
      ],
      "metadata": {
        "id": "RhEdWd9YUR6H"
      }
    },
    {
      "cell_type": "code",
      "execution_count": 306,
      "metadata": {
        "colab": {
          "base_uri": "https://localhost:8080/",
          "height": 293
        },
        "id": "T3EvaeQ_INIL",
        "outputId": "f4b48991-bd9e-446e-9b6a-4a4e5e675b6c"
      },
      "outputs": [
        {
          "output_type": "execute_result",
          "data": {
            "text/plain": [
              "            Producto Categoría del Producto    Precio  Costo de envío  \\\n",
              "0  Asistente virtual           Electrónicos  164300.0          6900.0   \n",
              "1    Mesa de comedor                Muebles  192300.0          8400.0   \n",
              "2      Juego de mesa               Juguetes  209600.0         15900.0   \n",
              "3         Microondas      Electrodomésticos  757500.0         41000.0   \n",
              "4   Silla de oficina                Muebles  335200.0         20200.0   \n",
              "\n",
              "  Fecha de Compra         Vendedor Lugar de Compra  Calificación  \\\n",
              "0      16/01/2021      Pedro Gomez          Bogotá             4   \n",
              "1      18/05/2022  Beatriz Morales        Medellín             1   \n",
              "2      15/03/2021   Juan Fernandez       Cartagena             1   \n",
              "3      03/05/2022   Juan Fernandez            Cali             4   \n",
              "4      07/11/2020    Maria Alfonso        Medellín             5   \n",
              "\n",
              "       Método de pago  Cantidad de cuotas       lat       lon  \n",
              "0  Tarjeta de crédito                   8   4.60971 -74.08175  \n",
              "1  Tarjeta de crédito                   4   6.25184 -75.56359  \n",
              "2  Tarjeta de crédito                   1  10.39972 -75.51444  \n",
              "3               Nequi                   1   3.43722 -76.52250  \n",
              "4               Nequi                   1   6.25184 -75.56359  "
            ],
            "text/html": [
              "\n",
              "  <div id=\"df-bfc7de07-f37b-4648-8330-f2dc7de692ba\" class=\"colab-df-container\">\n",
              "    <div>\n",
              "<style scoped>\n",
              "    .dataframe tbody tr th:only-of-type {\n",
              "        vertical-align: middle;\n",
              "    }\n",
              "\n",
              "    .dataframe tbody tr th {\n",
              "        vertical-align: top;\n",
              "    }\n",
              "\n",
              "    .dataframe thead th {\n",
              "        text-align: right;\n",
              "    }\n",
              "</style>\n",
              "<table border=\"1\" class=\"dataframe\">\n",
              "  <thead>\n",
              "    <tr style=\"text-align: right;\">\n",
              "      <th></th>\n",
              "      <th>Producto</th>\n",
              "      <th>Categoría del Producto</th>\n",
              "      <th>Precio</th>\n",
              "      <th>Costo de envío</th>\n",
              "      <th>Fecha de Compra</th>\n",
              "      <th>Vendedor</th>\n",
              "      <th>Lugar de Compra</th>\n",
              "      <th>Calificación</th>\n",
              "      <th>Método de pago</th>\n",
              "      <th>Cantidad de cuotas</th>\n",
              "      <th>lat</th>\n",
              "      <th>lon</th>\n",
              "    </tr>\n",
              "  </thead>\n",
              "  <tbody>\n",
              "    <tr>\n",
              "      <th>0</th>\n",
              "      <td>Asistente virtual</td>\n",
              "      <td>Electrónicos</td>\n",
              "      <td>164300.0</td>\n",
              "      <td>6900.0</td>\n",
              "      <td>16/01/2021</td>\n",
              "      <td>Pedro Gomez</td>\n",
              "      <td>Bogotá</td>\n",
              "      <td>4</td>\n",
              "      <td>Tarjeta de crédito</td>\n",
              "      <td>8</td>\n",
              "      <td>4.60971</td>\n",
              "      <td>-74.08175</td>\n",
              "    </tr>\n",
              "    <tr>\n",
              "      <th>1</th>\n",
              "      <td>Mesa de comedor</td>\n",
              "      <td>Muebles</td>\n",
              "      <td>192300.0</td>\n",
              "      <td>8400.0</td>\n",
              "      <td>18/05/2022</td>\n",
              "      <td>Beatriz Morales</td>\n",
              "      <td>Medellín</td>\n",
              "      <td>1</td>\n",
              "      <td>Tarjeta de crédito</td>\n",
              "      <td>4</td>\n",
              "      <td>6.25184</td>\n",
              "      <td>-75.56359</td>\n",
              "    </tr>\n",
              "    <tr>\n",
              "      <th>2</th>\n",
              "      <td>Juego de mesa</td>\n",
              "      <td>Juguetes</td>\n",
              "      <td>209600.0</td>\n",
              "      <td>15900.0</td>\n",
              "      <td>15/03/2021</td>\n",
              "      <td>Juan Fernandez</td>\n",
              "      <td>Cartagena</td>\n",
              "      <td>1</td>\n",
              "      <td>Tarjeta de crédito</td>\n",
              "      <td>1</td>\n",
              "      <td>10.39972</td>\n",
              "      <td>-75.51444</td>\n",
              "    </tr>\n",
              "    <tr>\n",
              "      <th>3</th>\n",
              "      <td>Microondas</td>\n",
              "      <td>Electrodomésticos</td>\n",
              "      <td>757500.0</td>\n",
              "      <td>41000.0</td>\n",
              "      <td>03/05/2022</td>\n",
              "      <td>Juan Fernandez</td>\n",
              "      <td>Cali</td>\n",
              "      <td>4</td>\n",
              "      <td>Nequi</td>\n",
              "      <td>1</td>\n",
              "      <td>3.43722</td>\n",
              "      <td>-76.52250</td>\n",
              "    </tr>\n",
              "    <tr>\n",
              "      <th>4</th>\n",
              "      <td>Silla de oficina</td>\n",
              "      <td>Muebles</td>\n",
              "      <td>335200.0</td>\n",
              "      <td>20200.0</td>\n",
              "      <td>07/11/2020</td>\n",
              "      <td>Maria Alfonso</td>\n",
              "      <td>Medellín</td>\n",
              "      <td>5</td>\n",
              "      <td>Nequi</td>\n",
              "      <td>1</td>\n",
              "      <td>6.25184</td>\n",
              "      <td>-75.56359</td>\n",
              "    </tr>\n",
              "  </tbody>\n",
              "</table>\n",
              "</div>\n",
              "    <div class=\"colab-df-buttons\">\n",
              "\n",
              "  <div class=\"colab-df-container\">\n",
              "    <button class=\"colab-df-convert\" onclick=\"convertToInteractive('df-bfc7de07-f37b-4648-8330-f2dc7de692ba')\"\n",
              "            title=\"Convert this dataframe to an interactive table.\"\n",
              "            style=\"display:none;\">\n",
              "\n",
              "  <svg xmlns=\"http://www.w3.org/2000/svg\" height=\"24px\" viewBox=\"0 -960 960 960\">\n",
              "    <path d=\"M120-120v-720h720v720H120Zm60-500h600v-160H180v160Zm220 220h160v-160H400v160Zm0 220h160v-160H400v160ZM180-400h160v-160H180v160Zm440 0h160v-160H620v160ZM180-180h160v-160H180v160Zm440 0h160v-160H620v160Z\"/>\n",
              "  </svg>\n",
              "    </button>\n",
              "\n",
              "  <style>\n",
              "    .colab-df-container {\n",
              "      display:flex;\n",
              "      gap: 12px;\n",
              "    }\n",
              "\n",
              "    .colab-df-convert {\n",
              "      background-color: #E8F0FE;\n",
              "      border: none;\n",
              "      border-radius: 50%;\n",
              "      cursor: pointer;\n",
              "      display: none;\n",
              "      fill: #1967D2;\n",
              "      height: 32px;\n",
              "      padding: 0 0 0 0;\n",
              "      width: 32px;\n",
              "    }\n",
              "\n",
              "    .colab-df-convert:hover {\n",
              "      background-color: #E2EBFA;\n",
              "      box-shadow: 0px 1px 2px rgba(60, 64, 67, 0.3), 0px 1px 3px 1px rgba(60, 64, 67, 0.15);\n",
              "      fill: #174EA6;\n",
              "    }\n",
              "\n",
              "    .colab-df-buttons div {\n",
              "      margin-bottom: 4px;\n",
              "    }\n",
              "\n",
              "    [theme=dark] .colab-df-convert {\n",
              "      background-color: #3B4455;\n",
              "      fill: #D2E3FC;\n",
              "    }\n",
              "\n",
              "    [theme=dark] .colab-df-convert:hover {\n",
              "      background-color: #434B5C;\n",
              "      box-shadow: 0px 1px 3px 1px rgba(0, 0, 0, 0.15);\n",
              "      filter: drop-shadow(0px 1px 2px rgba(0, 0, 0, 0.3));\n",
              "      fill: #FFFFFF;\n",
              "    }\n",
              "  </style>\n",
              "\n",
              "    <script>\n",
              "      const buttonEl =\n",
              "        document.querySelector('#df-bfc7de07-f37b-4648-8330-f2dc7de692ba button.colab-df-convert');\n",
              "      buttonEl.style.display =\n",
              "        google.colab.kernel.accessAllowed ? 'block' : 'none';\n",
              "\n",
              "      async function convertToInteractive(key) {\n",
              "        const element = document.querySelector('#df-bfc7de07-f37b-4648-8330-f2dc7de692ba');\n",
              "        const dataTable =\n",
              "          await google.colab.kernel.invokeFunction('convertToInteractive',\n",
              "                                                    [key], {});\n",
              "        if (!dataTable) return;\n",
              "\n",
              "        const docLinkHtml = 'Like what you see? Visit the ' +\n",
              "          '<a target=\"_blank\" href=https://colab.research.google.com/notebooks/data_table.ipynb>data table notebook</a>'\n",
              "          + ' to learn more about interactive tables.';\n",
              "        element.innerHTML = '';\n",
              "        dataTable['output_type'] = 'display_data';\n",
              "        await google.colab.output.renderOutput(dataTable, element);\n",
              "        const docLink = document.createElement('div');\n",
              "        docLink.innerHTML = docLinkHtml;\n",
              "        element.appendChild(docLink);\n",
              "      }\n",
              "    </script>\n",
              "  </div>\n",
              "\n",
              "\n",
              "    <div id=\"df-66431854-1875-455e-a1a7-da5928490b6f\">\n",
              "      <button class=\"colab-df-quickchart\" onclick=\"quickchart('df-66431854-1875-455e-a1a7-da5928490b6f')\"\n",
              "                title=\"Suggest charts\"\n",
              "                style=\"display:none;\">\n",
              "\n",
              "<svg xmlns=\"http://www.w3.org/2000/svg\" height=\"24px\"viewBox=\"0 0 24 24\"\n",
              "     width=\"24px\">\n",
              "    <g>\n",
              "        <path d=\"M19 3H5c-1.1 0-2 .9-2 2v14c0 1.1.9 2 2 2h14c1.1 0 2-.9 2-2V5c0-1.1-.9-2-2-2zM9 17H7v-7h2v7zm4 0h-2V7h2v10zm4 0h-2v-4h2v4z\"/>\n",
              "    </g>\n",
              "</svg>\n",
              "      </button>\n",
              "\n",
              "<style>\n",
              "  .colab-df-quickchart {\n",
              "      --bg-color: #E8F0FE;\n",
              "      --fill-color: #1967D2;\n",
              "      --hover-bg-color: #E2EBFA;\n",
              "      --hover-fill-color: #174EA6;\n",
              "      --disabled-fill-color: #AAA;\n",
              "      --disabled-bg-color: #DDD;\n",
              "  }\n",
              "\n",
              "  [theme=dark] .colab-df-quickchart {\n",
              "      --bg-color: #3B4455;\n",
              "      --fill-color: #D2E3FC;\n",
              "      --hover-bg-color: #434B5C;\n",
              "      --hover-fill-color: #FFFFFF;\n",
              "      --disabled-bg-color: #3B4455;\n",
              "      --disabled-fill-color: #666;\n",
              "  }\n",
              "\n",
              "  .colab-df-quickchart {\n",
              "    background-color: var(--bg-color);\n",
              "    border: none;\n",
              "    border-radius: 50%;\n",
              "    cursor: pointer;\n",
              "    display: none;\n",
              "    fill: var(--fill-color);\n",
              "    height: 32px;\n",
              "    padding: 0;\n",
              "    width: 32px;\n",
              "  }\n",
              "\n",
              "  .colab-df-quickchart:hover {\n",
              "    background-color: var(--hover-bg-color);\n",
              "    box-shadow: 0 1px 2px rgba(60, 64, 67, 0.3), 0 1px 3px 1px rgba(60, 64, 67, 0.15);\n",
              "    fill: var(--button-hover-fill-color);\n",
              "  }\n",
              "\n",
              "  .colab-df-quickchart-complete:disabled,\n",
              "  .colab-df-quickchart-complete:disabled:hover {\n",
              "    background-color: var(--disabled-bg-color);\n",
              "    fill: var(--disabled-fill-color);\n",
              "    box-shadow: none;\n",
              "  }\n",
              "\n",
              "  .colab-df-spinner {\n",
              "    border: 2px solid var(--fill-color);\n",
              "    border-color: transparent;\n",
              "    border-bottom-color: var(--fill-color);\n",
              "    animation:\n",
              "      spin 1s steps(1) infinite;\n",
              "  }\n",
              "\n",
              "  @keyframes spin {\n",
              "    0% {\n",
              "      border-color: transparent;\n",
              "      border-bottom-color: var(--fill-color);\n",
              "      border-left-color: var(--fill-color);\n",
              "    }\n",
              "    20% {\n",
              "      border-color: transparent;\n",
              "      border-left-color: var(--fill-color);\n",
              "      border-top-color: var(--fill-color);\n",
              "    }\n",
              "    30% {\n",
              "      border-color: transparent;\n",
              "      border-left-color: var(--fill-color);\n",
              "      border-top-color: var(--fill-color);\n",
              "      border-right-color: var(--fill-color);\n",
              "    }\n",
              "    40% {\n",
              "      border-color: transparent;\n",
              "      border-right-color: var(--fill-color);\n",
              "      border-top-color: var(--fill-color);\n",
              "    }\n",
              "    60% {\n",
              "      border-color: transparent;\n",
              "      border-right-color: var(--fill-color);\n",
              "    }\n",
              "    80% {\n",
              "      border-color: transparent;\n",
              "      border-right-color: var(--fill-color);\n",
              "      border-bottom-color: var(--fill-color);\n",
              "    }\n",
              "    90% {\n",
              "      border-color: transparent;\n",
              "      border-bottom-color: var(--fill-color);\n",
              "    }\n",
              "  }\n",
              "</style>\n",
              "\n",
              "      <script>\n",
              "        async function quickchart(key) {\n",
              "          const quickchartButtonEl =\n",
              "            document.querySelector('#' + key + ' button');\n",
              "          quickchartButtonEl.disabled = true;  // To prevent multiple clicks.\n",
              "          quickchartButtonEl.classList.add('colab-df-spinner');\n",
              "          try {\n",
              "            const charts = await google.colab.kernel.invokeFunction(\n",
              "                'suggestCharts', [key], {});\n",
              "          } catch (error) {\n",
              "            console.error('Error during call to suggestCharts:', error);\n",
              "          }\n",
              "          quickchartButtonEl.classList.remove('colab-df-spinner');\n",
              "          quickchartButtonEl.classList.add('colab-df-quickchart-complete');\n",
              "        }\n",
              "        (() => {\n",
              "          let quickchartButtonEl =\n",
              "            document.querySelector('#df-66431854-1875-455e-a1a7-da5928490b6f button');\n",
              "          quickchartButtonEl.style.display =\n",
              "            google.colab.kernel.accessAllowed ? 'block' : 'none';\n",
              "        })();\n",
              "      </script>\n",
              "    </div>\n",
              "\n",
              "    </div>\n",
              "  </div>\n"
            ],
            "application/vnd.google.colaboratory.intrinsic+json": {
              "type": "dataframe",
              "variable_name": "tienda1",
              "summary": "{\n  \"name\": \"tienda1\",\n  \"rows\": 2359,\n  \"fields\": [\n    {\n      \"column\": \"Producto\",\n      \"properties\": {\n        \"dtype\": \"category\",\n        \"num_unique_values\": 51,\n        \"samples\": [\n          \"Guitarra ac\\u00fastica\",\n          \"Bal\\u00f3n de baloncesto\",\n          \"Smartwatch\"\n        ],\n        \"semantic_type\": \"\",\n        \"description\": \"\"\n      }\n    },\n    {\n      \"column\": \"Categor\\u00eda del Producto\",\n      \"properties\": {\n        \"dtype\": \"category\",\n        \"num_unique_values\": 8,\n        \"samples\": [\n          \"Muebles\",\n          \"Deportes y diversi\\u00f3n\",\n          \"Electr\\u00f3nicos\"\n        ],\n        \"semantic_type\": \"\",\n        \"description\": \"\"\n      }\n    },\n    {\n      \"column\": \"Precio\",\n      \"properties\": {\n        \"dtype\": \"number\",\n        \"std\": 614686.7653873172,\n        \"min\": 7600.0,\n        \"max\": 2977000.0,\n        \"num_unique_values\": 1937,\n        \"samples\": [\n          2499400.0,\n          14800.0,\n          80500.0\n        ],\n        \"semantic_type\": \"\",\n        \"description\": \"\"\n      }\n    },\n    {\n      \"column\": \"Costo de env\\u00edo\",\n      \"properties\": {\n        \"dtype\": \"number\",\n        \"std\": 32860.0017825605,\n        \"min\": 0.0,\n        \"max\": 160800.0,\n        \"num_unique_values\": 753,\n        \"samples\": [\n          117800.0,\n          54700.0,\n          45600.0\n        ],\n        \"semantic_type\": \"\",\n        \"description\": \"\"\n      }\n    },\n    {\n      \"column\": \"Fecha de Compra\",\n      \"properties\": {\n        \"dtype\": \"object\",\n        \"num_unique_values\": 1018,\n        \"samples\": [\n          \"15/09/2022\",\n          \"03/06/2020\",\n          \"06/11/2021\"\n        ],\n        \"semantic_type\": \"\",\n        \"description\": \"\"\n      }\n    },\n    {\n      \"column\": \"Vendedor\",\n      \"properties\": {\n        \"dtype\": \"category\",\n        \"num_unique_values\": 14,\n        \"samples\": [\n          \"Juliana Costa\",\n          \"Mariana Herrera\",\n          \"Pedro Gomez\"\n        ],\n        \"semantic_type\": \"\",\n        \"description\": \"\"\n      }\n    },\n    {\n      \"column\": \"Lugar de Compra\",\n      \"properties\": {\n        \"dtype\": \"category\",\n        \"num_unique_values\": 19,\n        \"samples\": [\n          \"Bogot\\u00e1\",\n          \"Pereira\",\n          \"Neiva\"\n        ],\n        \"semantic_type\": \"\",\n        \"description\": \"\"\n      }\n    },\n    {\n      \"column\": \"Calificaci\\u00f3n\",\n      \"properties\": {\n        \"dtype\": \"number\",\n        \"std\": 1,\n        \"min\": 1,\n        \"max\": 5,\n        \"num_unique_values\": 5,\n        \"samples\": [\n          1,\n          2,\n          5\n        ],\n        \"semantic_type\": \"\",\n        \"description\": \"\"\n      }\n    },\n    {\n      \"column\": \"M\\u00e9todo de pago\",\n      \"properties\": {\n        \"dtype\": \"category\",\n        \"num_unique_values\": 4,\n        \"samples\": [\n          \"Nequi\",\n          \"Tarjeta de d\\u00e9bito\",\n          \"Tarjeta de cr\\u00e9dito\"\n        ],\n        \"semantic_type\": \"\",\n        \"description\": \"\"\n      }\n    },\n    {\n      \"column\": \"Cantidad de cuotas\",\n      \"properties\": {\n        \"dtype\": \"number\",\n        \"std\": 2,\n        \"min\": 1,\n        \"max\": 24,\n        \"num_unique_values\": 15,\n        \"samples\": [\n          7,\n          14,\n          8\n        ],\n        \"semantic_type\": \"\",\n        \"description\": \"\"\n      }\n    },\n    {\n      \"column\": \"lat\",\n      \"properties\": {\n        \"dtype\": \"number\",\n        \"std\": 2.2874452492678627,\n        \"min\": -4.21528,\n        \"max\": 11.54444,\n        \"num_unique_values\": 19,\n        \"samples\": [\n          4.60971,\n          4.81333,\n          2.9273\n        ],\n        \"semantic_type\": \"\",\n        \"description\": \"\"\n      }\n    },\n    {\n      \"column\": \"lon\",\n      \"properties\": {\n        \"dtype\": \"number\",\n        \"std\": 1.2178272727088486,\n        \"min\": -77.28111,\n        \"max\": -67.9239,\n        \"num_unique_values\": 19,\n        \"samples\": [\n          -74.08175,\n          -75.69611,\n          -75.28189\n        ],\n        \"semantic_type\": \"\",\n        \"description\": \"\"\n      }\n    }\n  ]\n}"
            }
          },
          "metadata": {},
          "execution_count": 306
        }
      ],
      "source": [
        "import pandas as pd\n",
        "\n",
        "url = \"https://raw.githubusercontent.com/alura-es-cursos/challenge1-data-science-latam/refs/heads/main/base-de-datos-challenge1-latam/tienda_1%20.csv\"\n",
        "url2 = \"https://raw.githubusercontent.com/alura-es-cursos/challenge1-data-science-latam/refs/heads/main/base-de-datos-challenge1-latam/tienda_2.csv\"\n",
        "url3 = \"https://raw.githubusercontent.com/alura-es-cursos/challenge1-data-science-latam/refs/heads/main/base-de-datos-challenge1-latam/tienda_3.csv\"\n",
        "url4 = \"https://raw.githubusercontent.com/alura-es-cursos/challenge1-data-science-latam/refs/heads/main/base-de-datos-challenge1-latam/tienda_4.csv\"\n",
        "\n",
        "tienda1 = pd.read_csv(url)\n",
        "tienda2 = pd.read_csv(url2)\n",
        "tienda3 = pd.read_csv(url3)\n",
        "tienda4 = pd.read_csv(url4)\n",
        "\n",
        "tienda1.head()"
      ]
    },
    {
      "cell_type": "code",
      "source": [],
      "metadata": {
        "id": "96mpZFD94_iq"
      },
      "execution_count": 306,
      "outputs": []
    },
    {
      "cell_type": "markdown",
      "source": [
        "--------------------------------------------------------------------------------"
      ],
      "metadata": {
        "id": "ULOn8pOp-rEu"
      }
    },
    {
      "cell_type": "markdown",
      "source": [
        "#**🧾 Descripción de los Datos.**"
      ],
      "metadata": {
        "id": "ajT9aafP-vZ_"
      }
    },
    {
      "cell_type": "markdown",
      "source": [
        "-------------------------------------------------------------------------"
      ],
      "metadata": {
        "id": "f-xNjiICEJdu"
      }
    },
    {
      "cell_type": "markdown",
      "source": [
        "El conjunto de datos incluye la siguientes columnas y su respectiva información:\n",
        "\n",
        "- **Producto,Categoría del Producto:** Artículos vendidos y clasificación del artículo. Ambos datos tipo object.\n",
        "\n",
        "- **Precio y Costo de Envío:** Valores de venta y costos asociados a su distribución. Ambos datos tipo float64.\n",
        "\n",
        "- **Fecha de Compra y Lugar de Compra:** Información temporal y geográfica de la compra. Datos para fecha datetime64[ns] y Lugar tipo object respectivamente.\n",
        "\n",
        "- **Calificación:** Evaluación de compra sugiere una nota general del clientes. Sin comentarios adicionales. Dato tipo int64.\n",
        "\n",
        "- **Método de Pago:** Métodos utilizados por los clientes, tipo de pago y cuotas. Dato tipo object.\n",
        "\n",
        "- **lat y lon:** Coordenadas Geográficas en longitud y latitud que sugieren ubicación de las transacciones.Ambos datos tipo float64"
      ],
      "metadata": {
        "id": "sZOSGyFq--Ii"
      }
    },
    {
      "cell_type": "markdown",
      "source": [
        "-----------------------------------------------------------------------------------"
      ],
      "metadata": {
        "id": "y1faeHXukros"
      }
    },
    {
      "cell_type": "markdown",
      "source": [
        "#**⚙️ Listas Útiles para el Análisis.**"
      ],
      "metadata": {
        "id": "yhhmIPaJ1SdH"
      }
    },
    {
      "cell_type": "code",
      "source": [
        "#base_tienda contiene los variables con los datos por tienda.\n",
        "base_tienda = [tienda1,tienda2,tienda3,tienda4]\n",
        "#nombre_tienda contiene los nombres de las tiendas.\n",
        "nombre_tienda = ['Tienda 1','Tienda 2','Tienda 3','Tienda 4']\n",
        "#emojis_ranking_categorias contiene los emojis para rankings de categorías (hasta 8 categorías)\n",
        "emojis_ranking_categorias = ['1️⃣', '2️⃣', '3️⃣', '4️⃣', '5️⃣', '6️⃣', '7️⃣', '8️⃣']\n",
        "#Lista Emojis emojis_ranking_productos para top productos más vendidos.\n",
        "emojis_ranking_productos = ['1️⃣', '2️⃣', '3️⃣']\n",
        "#Lista Emojis emojis_ranking_productos_descendente para top productos menos vendidos.\n",
        "emojis_ranking_productos_descendente = ['3️⃣', '2️⃣', '1️⃣']\n",
        "#Listas emoji_notas para medir satisfacción de cliente.\n",
        "emoji_notas = [\"🔵 Excelente.\",\"🟢 Buena.\",\"🟡 Aceptable.\",\"🔴 Revisión.\"]"
      ],
      "metadata": {
        "id": "ajPi1C7l2gXf"
      },
      "execution_count": 307,
      "outputs": []
    },
    {
      "cell_type": "code",
      "source": [],
      "metadata": {
        "id": "EoaY-6172NTw"
      },
      "execution_count": 307,
      "outputs": []
    },
    {
      "cell_type": "markdown",
      "source": [
        "##**📌  Cálculos Solicitados.**"
      ],
      "metadata": {
        "id": "ddPSRAYSlbom"
      }
    },
    {
      "cell_type": "markdown",
      "source": [
        "-----------------------------------------------------------------------"
      ],
      "metadata": {
        "id": "sVxMbjcVluav"
      }
    },
    {
      "cell_type": "markdown",
      "source": [
        "\n",
        "###**🖱️ Ventas Totales por Tienda.**\n"
      ],
      "metadata": {
        "id": "X62IW3KFUIYm"
      }
    },
    {
      "cell_type": "markdown",
      "source": [
        "-----------------------------------------------------------------"
      ],
      "metadata": {
        "id": "OTCQ34VMEMax"
      }
    },
    {
      "cell_type": "markdown",
      "source": [
        "**🎯 Objetivo del cálculo:**\n",
        "\n",
        "Determinar cuál tienda ha generado la mayor cantidad de ingresos totales. Este cálculo entrega un primer acercamiento al rendimiento general de cada tienda, reflejando cuánto dinero ha captado a través de sus ventas."
      ],
      "metadata": {
        "id": "W7OenFz4lxsr"
      }
    },
    {
      "cell_type": "markdown",
      "source": [
        "**🧠 Interpretación esperada:**\n",
        "\n",
        "* Las ventas totales indican la capacidad de una tienda para generar ingresos brutos.\n",
        "\n",
        "* Una tienda con un volumen alto de ventas, sugiere mayores ingresos,  precios adecuados o alta demanda.\n",
        "\n",
        "* Una tienda con ingresos bajos podría estar enfrentando problemas en su operación, que abria de investigar.\n",
        "\n",
        "* Aunque no es una métrica definitiva por sí sola, un ingreso total bajo puede ser una señal de alerta sobre su viabilidad."
      ],
      "metadata": {
        "id": "HN6gdtuswSvW"
      }
    },
    {
      "cell_type": "code",
      "source": [
        "#Código cálculo de ventas totales por tienda.\n",
        "#vt_portienda contiene las ventas totales por tienda.\n",
        "vt_portienda = {}\n",
        "\n",
        "#Función ventas_totales suma y totabiliza las ventas de cada tienda.\n",
        "def ventas_totales(base,tienda):\n",
        "  global vt_portienda\n",
        "  vt = base['Precio'].sum()\n",
        "  vt_portienda[tienda] = vt\n",
        "  return vt_portienda\n",
        "\n",
        "#Declaramos función ventas_totales para cada tienda.\n",
        "for base,tienda in zip(base_tienda,nombre_tienda):\n",
        "  ventas_totales(base,tienda)\n",
        "\n",
        "#Importamos las llaves y valores del diccionario vt_portienda para crear DataFrame.\n",
        "key_vt_portienda = list(vt_portienda.keys())\n",
        "val_vt_portienda = list(vt_portienda.values())\n",
        "\n",
        "#Creamos DataFrame df_vt_portienda con valor de columna Tienda y Ventas Totales.\n",
        "df_vt_portienda = pd.DataFrame({'Tienda':key_vt_portienda,'Ventas_Totales':val_vt_portienda}).sort_values(by='Ventas_Totales',ascending=False)\n",
        "\n",
        "#Visualización Resumen Ventas Totales por Tienda (datos del diccionario vt_portienda)\n",
        "print(f'💰 Ventas Totales por Tienda:\\n')\n",
        "for tienda,ventas in vt_portienda.items():\n",
        "  print(f'🏪 {tienda}:  $ {ventas:>10,.2f} CLP')"
      ],
      "metadata": {
        "id": "F91ttBNu6Lt2",
        "colab": {
          "base_uri": "https://localhost:8080/"
        },
        "outputId": "cdecaf4b-7592-45a8-df83-b9e4f54fad15"
      },
      "execution_count": 351,
      "outputs": [
        {
          "output_type": "stream",
          "name": "stdout",
          "text": [
            "💰 Ventas Totales por Tienda:\n",
            "\n",
            "🏪 Tienda 1:  $ 1,150,880,400.00 CLP\n",
            "🏪 Tienda 2:  $ 1,116,343,500.00 CLP\n",
            "🏪 Tienda 3:  $ 1,098,019,600.00 CLP\n",
            "🏪 Tienda 4:  $ 1,038,375,700.00 CLP\n"
          ]
        }
      ]
    },
    {
      "cell_type": "code",
      "source": [
        "venta_global = df_vt_portienda['Ventas_Totales'].sum()\n",
        "diferencia_tienda1_tienda4 = df_vt_portienda['Ventas_Totales'][0] - df_vt_portienda['Ventas_Totales'][3]\n",
        "porcentaje_diferencia_t1_t4 = (diferencia_tienda1_tienda4 / venta_global) * 100\n",
        "\n",
        "print(f\"Análisis preliminar de las Ventas Totales por Tienda.\\n\")\n",
        "print(f\"* Las Ventas Globales ascienden a $ {venta_global:,.2f} COP.\")\n",
        "print(f\"* La Diferencia en ventas entre T1 y T4 es $ {diferencia_tienda1_tienda4:,.2f} COP y representa el {porcentaje_diferencia_t1_t4:,.2f} % de las ventas globales.\")\n",
        "print(f\"* La Diferencia entre la tienda con mayor y menor facturación es mínima.\")\n",
        "print(f\"* Se recomienda observar las ventas anuales para identificar tendencia en el tiempo(aumento,disminución,etc).\")\n",
        "print(f\"  Dada la diferencia entre T1 y T2 es posible evaluar estatégias de éxito y aplicar en el resto de tiendas para aumentar sus ventas una vez se verifique la tendencia\\n  de las ventas de cada tienda.\")\n",
        "print(f\"* Se recomienda calcular un margen de contribución parcial deduciendo los costos de envío para evaluar de manera preliminar si tiene capacidad para generar ingresos.\")\n",
        "print()"
      ],
      "metadata": {
        "id": "KDyr8E71V3m-",
        "colab": {
          "base_uri": "https://localhost:8080/"
        },
        "outputId": "64175dbe-f62c-47fb-8f3c-9784ffa9ad0c"
      },
      "execution_count": 396,
      "outputs": [
        {
          "output_type": "stream",
          "name": "stdout",
          "text": [
            "Análisis preliminar de las Ventas Totales por Tienda.\n",
            "\n",
            "* Las Ventas Globales ascienden a $ 4,403,619,200.00 COP.\n",
            "* La Diferencia en ventas entre T1 y T4 es $ 112,504,700.00 COP y representa el 2.55 % de las ventas globales.\n",
            "* La Diferencia entre la tienda con mayor y menor facturación es mínima.\n",
            "* Se recomienda observar las ventas anuales para identificar tendencia en el tiempo(aumento,disminución,etc).\n",
            "  Dada la diferencia entre T1 y T2 es posible evaluar estatégias de éxito y aplicar en el resto de tiendas para aumentar sus ventas una vez se verifique la tendencia\n",
            "  de las ventas de cada tienda.\n",
            "* Se recomienda calcular un margen de contribución parcial deduciendo los costos de envío para evaluar de manera preliminar si tiene capacidad para generar ingresos.\n",
            "\n"
          ]
        }
      ]
    },
    {
      "cell_type": "code",
      "source": [],
      "metadata": {
        "id": "molBA7d4DFmg"
      },
      "execution_count": null,
      "outputs": []
    },
    {
      "cell_type": "markdown",
      "source": [
        "----------------------------------------------------------------------------------"
      ],
      "metadata": {
        "id": "HhZb3ENKk0iB"
      }
    },
    {
      "cell_type": "markdown",
      "source": [
        "###**🖱️Ventas por Categoría y Tienda.**"
      ],
      "metadata": {
        "id": "2V_vcAPzWZmR"
      }
    },
    {
      "cell_type": "markdown",
      "source": [
        "-------------------------------------------------------------------------"
      ],
      "metadata": {
        "id": "BuXWsjWxEOp6"
      }
    },
    {
      "cell_type": "markdown",
      "source": [
        "**🎯 Objetivo del cálculo:**\n",
        "\n",
        "Identificar cuáles son las categorías de productos que generan mayores ventas en cada tienda. Este análisis permite comprender el enfoque comercial de cada local y detectar qué líneas de productos tienen mayor aceptación o demanda por parte de los clientes y por ende mayores ingresos."
      ],
      "metadata": {
        "id": "JMLLVHRJl1Do"
      }
    },
    {
      "cell_type": "markdown",
      "source": [
        "**🧠 Interpretación esperada:**\n",
        "\n",
        "* Una categoría con mayores ventas sugiere que la tienda está bien posicionada en ese tipo de producto o que existe alta demanda en su mercado local.\n",
        "\n",
        "* Ayuda a evaluar la estrategia de inversión y oferta de productos de la tienda: en qué está apostando más para obtener mayor margen de ganancia.\n",
        "\n",
        "* También permite comparar si todas las tiendas siguen un patrón similar o si alguna depende demasiado de una sola categoría (lo que puede ser un riesgo).\n",
        "\n",
        "* Si una categoría genera bajo margen de ganancia en una tienda pero es fuerte en otra, podría indicar una oportunidad de mejora o expansión en el surtido."
      ],
      "metadata": {
        "id": "sfE8RS7Mu-Am"
      }
    },
    {
      "cell_type": "code",
      "source": [
        "#Código cálculo de ventas totales por categoría y tienda.\n",
        "#Contiene las ventas totales por categoría y tienda.\n",
        "vt_categoria_tienda = {}\n",
        "#Definimos función venta_categoria_tienda para calcular las ventas totales por categoría en cada tienda.\n",
        "def venta_categoria_tienda(base,tienda):\n",
        "  global vt_categoria_tienda\n",
        "  vt_cat_t = pd.Series(base.groupby('Categoría del Producto')['Precio'].sum(),name= tienda).sort_values(ascending=False)\n",
        "  vt_categoria_tienda[tienda] = vt_cat_t\n",
        "  return vt_categoria_tienda\n",
        "\n",
        "#Declaramos fución venta_categoria_tienda para  cada tienda.\n",
        "for base,tienda in zip(base_tienda,nombre_tienda):\n",
        "  venta_categoria_tienda(base,tienda)\n",
        "\n",
        "#df_vta_categoria_tienda_consolidado almacena de las ventas totales por categoría y tienda.\n",
        "df_vta_categoria_tienda_consolidado = pd.DataFrame(vt_categoria_tienda)\n",
        "\n",
        "#Función resumen_vta_cat_tienda crea visualización de resultados para las ventas por categoría y tienda.\n",
        "def resumen_vta_cat_tienda(tienda,df_emoji):\n",
        "  datos_tienda1 = vt_categoria_tienda.get(tienda).items()\n",
        "  for (cat,valor),emoji in zip(datos_tienda1,df_emoji):\n",
        "    print(f'{cat:>25}:  $ {valor:>12,.0f} {emoji}')\n",
        "\n",
        "#Visualización del resumen de ventas totales por categoría y tienda.\n",
        "print(f'💰 Ventas Totales por Categoría y Tienda.\\n')\n",
        "for tienda in nombre_tienda:\n",
        "  print(f'🏪 {tienda}:')\n",
        "  resumen_vta_cat_tienda(tienda,emojis_ranking_categorias)\n",
        "  print('\\n')"
      ],
      "metadata": {
        "id": "xykobSftV64I",
        "colab": {
          "base_uri": "https://localhost:8080/"
        },
        "outputId": "e6260a26-9f80-479c-ddb8-4d444c0bb841"
      },
      "execution_count": 309,
      "outputs": [
        {
          "output_type": "stream",
          "name": "stdout",
          "text": [
            "💰 Ventas Totales por Categoría y Tienda.\n",
            "\n",
            "🏪 Tienda 1:\n",
            "             Electrónicos:  $  429,493,500 1️⃣\n",
            "        Electrodomésticos:  $  363,685,200 2️⃣\n",
            "                  Muebles:  $  187,633,700 3️⃣\n",
            "   Instrumentos musicales:  $   91,299,000 4️⃣\n",
            "     Deportes y diversión:  $   39,290,000 5️⃣\n",
            "                 Juguetes:  $   17,995,700 6️⃣\n",
            "  Artículos para el hogar:  $   12,698,400 7️⃣\n",
            "                   Libros:  $    8,784,900 8️⃣\n",
            "\n",
            "\n",
            "🏪 Tienda 2:\n",
            "             Electrónicos:  $  410,831,100 1️⃣\n",
            "        Electrodomésticos:  $  348,567,800 2️⃣\n",
            "                  Muebles:  $  176,426,300 3️⃣\n",
            "   Instrumentos musicales:  $  104,990,300 4️⃣\n",
            "     Deportes y diversión:  $   34,744,500 5️⃣\n",
            "                 Juguetes:  $   15,945,400 6️⃣\n",
            "  Artículos para el hogar:  $   14,746,900 7️⃣\n",
            "                   Libros:  $   10,091,200 8️⃣\n",
            "\n",
            "\n",
            "🏪 Tienda 3:\n",
            "             Electrónicos:  $  410,775,800 1️⃣\n",
            "        Electrodomésticos:  $  329,237,900 2️⃣\n",
            "                  Muebles:  $  201,072,100 3️⃣\n",
            "   Instrumentos musicales:  $   77,380,900 4️⃣\n",
            "     Deportes y diversión:  $   35,593,100 5️⃣\n",
            "                 Juguetes:  $   19,401,100 6️⃣\n",
            "  Artículos para el hogar:  $   15,060,000 7️⃣\n",
            "                   Libros:  $    9,498,700 8️⃣\n",
            "\n",
            "\n",
            "🏪 Tienda 4:\n",
            "             Electrónicos:  $  409,476,100 1️⃣\n",
            "        Electrodomésticos:  $  283,260,200 2️⃣\n",
            "                  Muebles:  $  192,528,900 3️⃣\n",
            "   Instrumentos musicales:  $   75,102,400 4️⃣\n",
            "     Deportes y diversión:  $   33,350,100 5️⃣\n",
            "                 Juguetes:  $   20,262,200 6️⃣\n",
            "  Artículos para el hogar:  $   15,074,500 7️⃣\n",
            "                   Libros:  $    9,321,300 8️⃣\n",
            "\n",
            "\n"
          ]
        }
      ]
    },
    {
      "cell_type": "code",
      "source": [
        "tienda1.columns"
      ],
      "metadata": {
        "id": "zALWMAO8I8ge",
        "outputId": "4a49eb66-d2e7-4bd6-ee9f-5d33b4cda560",
        "colab": {
          "base_uri": "https://localhost:8080/"
        }
      },
      "execution_count": 397,
      "outputs": [
        {
          "output_type": "execute_result",
          "data": {
            "text/plain": [
              "Index(['Producto', 'Categoría del Producto', 'Precio', 'Costo de envío',\n",
              "       'Fecha de Compra', 'Vendedor', 'Lugar de Compra', 'Calificación',\n",
              "       'Método de pago', 'Cantidad de cuotas', 'lat', 'lon'],\n",
              "      dtype='object')"
            ]
          },
          "metadata": {},
          "execution_count": 397
        }
      ]
    },
    {
      "cell_type": "code",
      "source": [
        "#Análisis preliminar de las Ventas por Categoría y Tienda.\n",
        "#Generamos resumen de número de categorías por tienda.\n",
        "print(f\"Análisis preliminar de las Ventas por Categoría y Tienda.\\n\")\n",
        "print(f\"Número de Categorías por Tienda.\\n\")\n",
        "\n",
        "for tienda,base in zip(nombre_tienda,base_tienda):\n",
        "  cat_n = base['Categoría del Producto'].nunique()\n",
        "  print(f'🏪 {tienda}: {cat_n} categorías.')\n",
        "\n",
        "\n",
        "#Comparando categorías entre tiendas.\n",
        "#Crear conjunto todas_categorias.\n",
        "todas_categorias = set()\n",
        "for tienda in base_tienda:\n",
        "    todas_categorias.update(tienda['Categoría del Producto'].unique())\n",
        "\n",
        "todas_categorias = sorted(todas_categorias)  # para ordenarlas\n",
        "\n",
        "#tabla_resumen_categorias contiene un DataFrame vacío para rellenar con check o X\n",
        "tabla_resumen_categorias = pd.DataFrame(index=todas_categorias)\n",
        "\n",
        "#Llenar la tabla tabla_resumen_categorias con ✔️ o ✖️\n",
        "for tienda, nombre in zip(base_tienda, nombre_tienda):\n",
        "    categorias_tienda = tienda['Categoría del Producto'].unique()\n",
        "    tabla_resumen_categorias[nombre] = tabla_resumen_categorias.index.map(\n",
        "        lambda x: '✔️' if x in categorias_tienda else '✖️'\n",
        "    )\n",
        "\n",
        "#Definir indice y nombre de la tabla resumen.\n",
        "tabla_resumen_categorias.index.name = 'Categoría'\n",
        "tabla_resumen_categorias.reset_index(inplace=False)\n",
        "\n",
        "#Visualizar resultado para categorías comunes entre tiendas.\n",
        "print('\\n\\n📦 Categorías Comunes entre Tiendas.\\n')\n",
        "print(tabla_resumen_categorias)\n",
        "\n",
        "#Comentarios.\n",
        "print(f\"\\n\\n* Al comparar las categorías de productos entre tiendas observamos que son idéntican en cantidad y clase.\")\n",
        "print(f\"* Al ordenar las ventas por categoría de forma descendente observamos que el orden que ocupa cada categoría es idéntica en posición más no en valor.\")\n",
        "print(f\"* Se recomienda complementar este hallazgo con un análisis de los productos en cada categoría para confirmar que comparten un mismo modelo de negocio y estrategias comercial\\n en términos de mix de productos.\")"
      ],
      "metadata": {
        "id": "A34YupIuYhfF",
        "colab": {
          "base_uri": "https://localhost:8080/"
        },
        "outputId": "aff845cc-20b3-4dc7-92fa-49666c3c9f3a"
      },
      "execution_count": 453,
      "outputs": [
        {
          "output_type": "stream",
          "name": "stdout",
          "text": [
            "Análisis preliminar de las Ventas por Categoría y Tienda.\n",
            "\n",
            "Número de Categorías por Tienda.\n",
            "\n",
            "🏪 Tienda 1: 8 categorías.\n",
            "🏪 Tienda 2: 8 categorías.\n",
            "🏪 Tienda 3: 8 categorías.\n",
            "🏪 Tienda 4: 8 categorías.\n",
            "\n",
            "\n",
            "📦 Categorías Comunes entre Tiendas.\n",
            "\n",
            "                        Tienda 1 Tienda 2 Tienda 3 Tienda 4\n",
            "Categoría                                                  \n",
            "Artículos para el hogar       ✔️       ✔️       ✔️       ✔️\n",
            "Deportes y diversión          ✔️       ✔️       ✔️       ✔️\n",
            "Electrodomésticos             ✔️       ✔️       ✔️       ✔️\n",
            "Electrónicos                  ✔️       ✔️       ✔️       ✔️\n",
            "Instrumentos musicales        ✔️       ✔️       ✔️       ✔️\n",
            "Juguetes                      ✔️       ✔️       ✔️       ✔️\n",
            "Libros                        ✔️       ✔️       ✔️       ✔️\n",
            "Muebles                       ✔️       ✔️       ✔️       ✔️\n",
            "\n",
            "\n",
            "* Al comparar las categorías de productos entre tiendas observamos que son idéntican en cantidad y clase.\n",
            "* Al ordenar las ventas por categoría de forma descendente observamos que el orden que ocupa cada categoría es idéntica en posición más no en valor.\n",
            "* Se recomienda complementar este hallazgo con un análisis de los productos en cada categoría para confirmar que comparten un mismo modelo de negocio y estrategias comercial\n",
            " en términos de mix de productos.\n"
          ]
        }
      ]
    },
    {
      "cell_type": "markdown",
      "source": [
        "---------------------------------------------------------------------------------"
      ],
      "metadata": {
        "id": "MfdneuN6k5QH"
      }
    },
    {
      "cell_type": "markdown",
      "source": [
        "###**🖱️ Productos Más y Menos Vendidos por Tienda.**\n"
      ],
      "metadata": {
        "id": "Rq6tU_xSY3jk"
      }
    },
    {
      "cell_type": "markdown",
      "source": [
        "-----------------------------------------------------------------------"
      ],
      "metadata": {
        "id": "g8R4SVXiEQs_"
      }
    },
    {
      "cell_type": "markdown",
      "source": [
        "🎯 **Objetivo del cálculo:**\n",
        "\n",
        "Determinar qué productos tienen mayor y menor volumen de ventas en cada tienda. Este análisis permite identificar los productos con alta o baja rotación, es decir, qué tan frecuentemente se venden."
      ],
      "metadata": {
        "id": "6A8TCHbel3Gc"
      }
    },
    {
      "cell_type": "markdown",
      "source": [
        "**🧠 Interpretación esperada:**\n",
        "\n",
        "* Un producto muy vendido (alta rotación) puede ser indicativo de popularidad, accesibilidad en precio o fuerte necesidad del cliente.\n",
        "\n",
        "* Un producto con pocas ventas puede deberse a:\n",
        "\n",
        " Falta de promoción, Alto precio,Baja demanda local.\n",
        "\n",
        "* Sin embargo, una alta rotación no garantiza rentabilidad: si el margen de ganancia es bajo, el producto podría no contribuir significativamente a las utilidades.\n",
        "\n",
        "* Este análisis es útil para revisar la eficiencia del mix de producto y para evaluar si ciertos productos justifican su espacio en inventario o deberían ser reemplazados."
      ],
      "metadata": {
        "id": "5zUZ83WFuk_q"
      }
    },
    {
      "cell_type": "code",
      "source": [
        "#Código para calcular los productos más y menos vendidos por tienda.\n",
        "#Diccionarios contienen la información de las ventas totales pro producto y categoría, los más y menos vendidos.\n",
        "vta_producto_tienda = {}\n",
        "top3_mas_vendidos = {}\n",
        "top3_menos_vendidos = {}\n",
        "\n",
        "\"\"\"\n",
        "Función venta_producto_tienda calcula las ventas totales por producto y las guarda en el diccionario vta_producto_tienda.\n",
        "selecciona los 3 productos más vendidos y los guarda en el diccionario top3_mas_vendidos.\n",
        "selecciona los 3 productos menos vendidos y los guarda en el diccionario top3_menos_vendidos.\n",
        "\"\"\"\n",
        "def venta_producto_tienda(base,tienda):\n",
        "  global vta_producto_tienda\n",
        "  global top3_mas_vendidos\n",
        "  global top3_menos_vendidos\n",
        "\n",
        "  vt_producto = pd.DataFrame(base.groupby('Producto')['Precio'].sum())\n",
        "  vta_producto_tienda[tienda] = vt_producto\n",
        "\n",
        "  p_mas_v = vt_producto.nlargest(3,'Precio')\n",
        "  p_mas_v.rename(columns={'Precio':'Ventas'},inplace=True)\n",
        "  top3_mas_vendidos[tienda] = p_mas_v\n",
        "\n",
        "  p_menos_v = vt_producto.nsmallest(3,'Precio')\n",
        "  p_menos_v.rename(columns={'Precio':'Ventas'},inplace=True)\n",
        "  top3_menos_vendidos[tienda] = p_menos_v\n",
        "\n",
        "  return\n",
        "\n",
        "#Declaramos función venta_producto_tienda para cada tienda.\n",
        "for base,tienda in zip(base_tienda,nombre_tienda):\n",
        "  venta_producto_tienda(base,tienda)\n",
        "\n",
        "#Función resumen_vta_producto_mas_menos crea visualización de resultados para las ventas por producto y tienda.\n",
        "def resumen_vta_producto_mas_menos(tienda,df_mas_v,df_menos_v,emoji_mas,emoji_menos):\n",
        "  v_mas = df_mas_v[tienda].values\n",
        "  p_mas = df_mas_v[tienda].index\n",
        "\n",
        "  v_menos = df_menos_v[tienda].values\n",
        "  p_menos = df_menos_v[tienda].index\n",
        "\n",
        "  print(f\"🏪 {tienda}\\n\")\n",
        "  print(f\"🛍️🏅 Productos Más Vendidos:\")\n",
        "  for p,valor,emoji in zip(p_mas,v_mas,emoji_mas):\n",
        "    vt = valor[0]\n",
        "    print(f\"{p:>18} $ {vt:>15,.1f} COP {emoji}\")\n",
        "  print()\n",
        "  print(f\"Productos Menos Vendidos:\")\n",
        "  for p,valor,emoji in zip(p_menos,v_menos,emoji_menos):\n",
        "    vt = valor[0]\n",
        "    print(f\"{p:>18} $ {vt:>15,.1f} COP {emoji}\")\n",
        "\n",
        "#Declaramos función resumen_vta_producto_mas_menos visualizar resumen de las 4 tiendas.\n",
        "print(f'💰 Ventas Totales por Producto y Tienda.\\n')\n",
        "for tienda in nombre_tienda:\n",
        "  resumen_vta_producto_mas_menos(tienda,top3_mas_vendidos,top3_menos_vendidos,emojis_ranking_productos,emojis_ranking_productos_descendente)\n",
        "  print('\\n')"
      ],
      "metadata": {
        "id": "owHtvND96Oyv",
        "colab": {
          "base_uri": "https://localhost:8080/"
        },
        "outputId": "f2ce48a5-b157-4f04-84b2-2a1df1947cc8"
      },
      "execution_count": 338,
      "outputs": [
        {
          "output_type": "stream",
          "name": "stdout",
          "text": [
            "💰 Ventas Totales por Producto y Tienda.\n",
            "\n",
            "🏪 Tienda 1\n",
            "\n",
            "🛍️🏅 Productos Más Vendidos:\n",
            "     TV LED UHD 4K $   142,150,200.0 COP 1️⃣\n",
            "      Refrigerador $   112,143,300.0 COP 2️⃣\n",
            "         Iphone 15 $    97,902,200.0 COP 3️⃣\n",
            "\n",
            "Productos Menos Vendidos:\n",
            "Cuerda para saltar $       652,800.0 COP 3️⃣\n",
            "    Dinosaurio Rex $       688,900.0 COP 2️⃣\n",
            "   Cubo mágico 8x8 $       696,900.0 COP 1️⃣\n",
            "\n",
            "\n",
            "🏪 Tienda 2\n",
            "\n",
            "🛍️🏅 Productos Más Vendidos:\n",
            "         Iphone 15 $   113,225,800.0 COP 1️⃣\n",
            "     TV LED UHD 4K $   103,375,000.0 COP 2️⃣\n",
            "      Refrigerador $    97,632,500.0 COP 3️⃣\n",
            "\n",
            "Productos Menos Vendidos:\n",
            "   Cubo mágico 8x8 $       643,600.0 COP 3️⃣\n",
            "    Dinosaurio Rex $       770,300.0 COP 2️⃣\n",
            "Cuerda para saltar $       856,900.0 COP 1️⃣\n",
            "\n",
            "\n",
            "🏪 Tienda 3\n",
            "\n",
            "🛍️🏅 Productos Más Vendidos:\n",
            "      Refrigerador $    99,889,700.0 COP 1️⃣\n",
            "     TV LED UHD 4K $    96,669,100.0 COP 2️⃣\n",
            "         Iphone 15 $    93,225,700.0 COP 3️⃣\n",
            "\n",
            "Productos Menos Vendidos:\n",
            "   Cubo mágico 8x8 $       640,400.0 COP 3️⃣\n",
            "    Dinosaurio Rex $       795,600.0 COP 2️⃣\n",
            "Cuerda para saltar $       853,800.0 COP 1️⃣\n",
            "\n",
            "\n",
            "🏪 Tienda 4\n",
            "\n",
            "🛍️🏅 Productos Más Vendidos:\n",
            "         Iphone 15 $    96,697,500.0 COP 1️⃣\n",
            "     TV LED UHD 4K $    90,295,300.0 COP 2️⃣\n",
            "          Smart TV $    82,790,400.0 COP 3️⃣\n",
            "\n",
            "Productos Menos Vendidos:\n",
            "Cuerda para saltar $       704,800.0 COP 3️⃣\n",
            "   Cubo mágico 8x8 $       748,400.0 COP 2️⃣\n",
            "    Dinosaurio Rex $       858,100.0 COP 1️⃣\n",
            "\n",
            "\n"
          ]
        }
      ]
    },
    {
      "cell_type": "code",
      "source": [],
      "metadata": {
        "id": "lyNcyJwCm5UC"
      },
      "execution_count": 310,
      "outputs": []
    },
    {
      "cell_type": "markdown",
      "source": [
        "--------------------------------------------------------------------------"
      ],
      "metadata": {
        "id": "SV8GPrdHk-u8"
      }
    },
    {
      "cell_type": "markdown",
      "source": [
        "###**🖱️ Valoración Media por Tienda.**"
      ],
      "metadata": {
        "id": "DmNp1KPBZCm-"
      }
    },
    {
      "cell_type": "markdown",
      "source": [
        "---------------------------------------------------------------------------------"
      ],
      "metadata": {
        "id": "k3qLG8RxESxD"
      }
    },
    {
      "cell_type": "markdown",
      "source": [
        "**🎯 Objetivo del cálculo:**\n",
        "\n",
        "Evaluar la experiencia general de compra que ofrecen las distintas tiendas, a través del promedio de calificaciones otorgadas por los clientes. Esto permite detectar niveles de satisfacción o posibles problemas en el servicio."
      ],
      "metadata": {
        "id": "DNXaLG6Rl4W1"
      }
    },
    {
      "cell_type": "markdown",
      "source": [
        "**🧠 Interpretación esperada:**\n",
        "\n",
        "* Una valoración media alta sugiere que la tienda ofrece una buena experiencia de compra en terminos generales.\n",
        "\n",
        "* Una valoración baja puede ser síntoma de deficiencias en uno o varios puntos del servicio, lo cual impacta negativamente en la percepción del cliente y en la imagen de la tienda.\n",
        "\n",
        "* Aunque no está directamente ligado al ingreso, una mala experiencia puede afectar la fidelización y, a largo plazo, reducir las ventas.\n",
        "\n",
        "* Comparar las valoraciones entre tiendas ayuda a identificar buenas prácticas y áreas críticas a mejorar."
      ],
      "metadata": {
        "id": "wRF37AnErFO3"
      }
    },
    {
      "cell_type": "code",
      "source": [
        "#Código para calcular valoración media por tienda.\n",
        "#notas_prom_tienda contiene las notas prom para todas las tiendas.\n",
        "notas_prom_tienda = {}\n",
        "#Función nota_prom calcula la nota promedio por tienda.\n",
        "def nota_prom(base,tienda):\n",
        "  global notas_prom_tienda\n",
        "  nota_prom = round(base['Calificación'].mean(),2)\n",
        "  notas_prom_tienda[tienda] = nota_prom\n",
        "  return\n",
        "\n",
        "#Declaramos nota_prom para cada tienda.\n",
        "for base,tienda in zip(base_tienda,nombre_tienda):\n",
        "  nota_prom(base,tienda)\n",
        "\n",
        "valor_notas = notas_prom_tienda.values()\n",
        "item_tienda = notas_prom_tienda.keys()\n",
        "escala_notas = sorted(tienda1['Calificación'].unique().tolist())\n",
        "\n",
        "#emoji_significado_nota asigna un emoji que sugiere un semáforo y fignificado de nota.\n",
        "def emoji_significado_nota(nota):\n",
        "  for n in valor_notas:\n",
        "    if nota == 5:\n",
        "      return emoji_notas[0]\n",
        "    elif nota >= 4:\n",
        "      return emoji_notas[1]\n",
        "    elif nota >= 3:\n",
        "      return emoji_notas[2]\n",
        "    else:\n",
        "      return emoji_notas[3]\n",
        "\n",
        "#Resumen para valoración media por tienda.\n",
        "print(f\"👤🏅 Valoración Media por Tienda\\n\")\n",
        "print(f\"Escala de Valoración por Tienda = {escala_notas}\\n\")\n",
        "for tienda,valor in zip(item_tienda,valor_notas):\n",
        "  nota = round(valor,2)\n",
        "  print(f'🏪 {tienda:>5}: {nota:>5}  {emoji_significado_nota(nota)}')"
      ],
      "metadata": {
        "colab": {
          "base_uri": "https://localhost:8080/"
        },
        "id": "i70Uym5r0BSp",
        "outputId": "2b3236de-13c9-4235-ecb8-ba022b5c78ec"
      },
      "execution_count": 336,
      "outputs": [
        {
          "output_type": "stream",
          "name": "stdout",
          "text": [
            "👤🏅 Valoración Media por Tienda\n",
            "\n",
            "Escala de Valoración por Tienda = [1, 2, 3, 4, 5]\n",
            "\n",
            "🏪 Tienda 1:  3.98  🟡 Aceptable.\n",
            "🏪 Tienda 2:  4.04  🟢 Buena.\n",
            "🏪 Tienda 3:  4.05  🟢 Buena.\n",
            "🏪 Tienda 4:   4.0  🟢 Buena.\n"
          ]
        }
      ]
    },
    {
      "cell_type": "code",
      "source": [],
      "metadata": {
        "id": "qoyjqijQZHfF"
      },
      "execution_count": 311,
      "outputs": []
    },
    {
      "cell_type": "markdown",
      "source": [
        "--------------------------------------------------------------------------------"
      ],
      "metadata": {
        "id": "fPZKNgi3lA7D"
      }
    },
    {
      "cell_type": "markdown",
      "source": [
        "###**🖱️ Costo Promedio de Envío por Tienda.**"
      ],
      "metadata": {
        "id": "Fl0cGi3bZKqU"
      }
    },
    {
      "cell_type": "markdown",
      "source": [
        "---------------------------------------------------------------------"
      ],
      "metadata": {
        "id": "xF9AehT5lDTb"
      }
    },
    {
      "cell_type": "markdown",
      "source": [
        "**🎯 Objetivo del cálculo:**\n",
        "\n",
        "Calcular el costo logístico promedio por venta en cada tienda. Esta métrica permite evaluar la eficiencia en la distribución, considerando ubicación, cobertura y volumen de pedidos.\n",
        "Esta métrica también es útil para detectar oportunidades de optimización logística, especialmente si hay tiendas con ingresos similares pero costos mucho más altos."
      ],
      "metadata": {
        "id": "vuRaGqAYl5nl"
      }
    },
    {
      "cell_type": "markdown",
      "source": [
        "🧠 Interpretación:\n",
        "\n",
        "* Un costo de envío promedio elevado puede estar asociado a:\n",
        "\n",
        " Baja concentración de clientes en la zona (poca densidad de pedidos),\n",
        "\n",
        " Mala ubicación geográfica respecto a los centros de distribución,\n",
        "\n",
        " Problemas logísticos u operativos (derivado de problemas internos o acuerdos con proveedores de servicio).\n",
        "\n",
        "* Una tienda con costos de envío más bajos generalmente tiene mejor eficiencia de reparto o una clientela más cercana o agrupada."
      ],
      "metadata": {
        "id": "PiDZ0l3ms1EC"
      }
    },
    {
      "cell_type": "code",
      "source": [
        "#Código para calcular el costo promedio de envío por tienda.\n",
        "#costo_prom_tienda guarda el costo promedio de envío por cada tienda.\n",
        "costo_prom_envio_tienda = {}\n",
        "#Función costo_prom_envio calcula el costo promedio de envío por tienda.\n",
        "def costo_prom_envio(base,tienda):\n",
        "  costo = base['Costo de envío'].mean()\n",
        "  costo_prom_envio_tienda[tienda] = costo\n",
        "  return\n",
        "\n",
        "#Declaramos función para cada tienda.\n",
        "for base,tienda in zip(base_tienda,nombre_tienda):\n",
        "  costo_prom_envio(base,tienda)\n",
        "\n",
        "#Extraemos llaves y valores.\n",
        "key_costo_prom_envio = costo_prom_envio_tienda.keys()\n",
        "val_costo_prom_envio = costo_prom_envio_tienda.values()\n",
        "\n",
        "#Visualización resumen costo promedio de envío por tienda.\n",
        "print(f\"💸🚚📦 Costo Promedio de Envío por Tienda.\\n\")\n",
        "for tienda,costo in zip(key_costo_prom_envio,val_costo_prom_envio):\n",
        "  print(f'🏪 {tienda}:  $ {costo:>10,.2f} CLP')"
      ],
      "metadata": {
        "id": "0tSdCie9ZQlt",
        "colab": {
          "base_uri": "https://localhost:8080/"
        },
        "outputId": "8bbc19c2-f09c-4658-f48b-bff285c1d3a3"
      },
      "execution_count": 335,
      "outputs": [
        {
          "output_type": "stream",
          "name": "stdout",
          "text": [
            "💸🚚📦 Costo Promedio de Envío por Tienda\n",
            "\n",
            "🏪 Tienda 1:  $  26,018.61 CLP\n",
            "🏪 Tienda 2:  $  25,216.24 CLP\n",
            "🏪 Tienda 3:  $  24,805.68 CLP\n",
            "🏪 Tienda 4:  $  23,459.46 CLP\n"
          ]
        }
      ]
    },
    {
      "cell_type": "markdown",
      "source": [
        "----------------------------------------------------------"
      ],
      "metadata": {
        "id": "lQ6CYItjlFJX"
      }
    }
  ]
}