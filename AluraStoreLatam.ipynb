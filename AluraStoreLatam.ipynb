{
  "nbformat": 4,
  "nbformat_minor": 0,
  "metadata": {
    "colab": {
      "provenance": []
    },
    "kernelspec": {
      "name": "python3",
      "display_name": "Python 3"
    },
    "language_info": {
      "name": "python"
    }
  },
  "cells": [
    {
      "cell_type": "markdown",
      "source": [
        "Haz clic en el botón para abrir este notebook en Google Colab:\n",
        "\n",
        "<a href=\"https://colab.research.google.com/github/EuniceGarcia503/Challenge1_AluraStore/blob/main/AluraStoreLatam.ipynb\" target=\"_blank\">\n",
        "  <img src=\"https://colab.research.google.com/assets/colab-badge.svg\" alt=\"Abrir en Colab\" style=\"height: 40px;\">\n",
        "</a>\n"
      ],
      "metadata": {
        "id": "1aHr7Yj15JtW"
      }
    },
    {
      "cell_type": "code",
      "source": [
        "!git config --global user.name \"Eunice García\"\n",
        "!git config --global user.email \"legd.cl26@gmail.com\""
      ],
      "metadata": {
        "id": "rbszpNcnItZm"
      },
      "execution_count": 69,
      "outputs": []
    },
    {
      "cell_type": "markdown",
      "source": [
        "#**💾 Importación de Datos.**\n",
        "\n"
      ],
      "metadata": {
        "id": "RhEdWd9YUR6H"
      }
    },
    {
      "cell_type": "code",
      "execution_count": 70,
      "metadata": {
        "colab": {
          "base_uri": "https://localhost:8080/",
          "height": 293
        },
        "id": "T3EvaeQ_INIL",
        "outputId": "199d423f-6a07-4ccb-d975-c225b47526c2"
      },
      "outputs": [
        {
          "output_type": "execute_result",
          "data": {
            "text/plain": [
              "            Producto Categoría del Producto    Precio  Costo de envío  \\\n",
              "0  Asistente virtual           Electrónicos  164300.0          6900.0   \n",
              "1    Mesa de comedor                Muebles  192300.0          8400.0   \n",
              "2      Juego de mesa               Juguetes  209600.0         15900.0   \n",
              "3         Microondas      Electrodomésticos  757500.0         41000.0   \n",
              "4   Silla de oficina                Muebles  335200.0         20200.0   \n",
              "\n",
              "  Fecha de Compra         Vendedor Lugar de Compra  Calificación  \\\n",
              "0      16/01/2021      Pedro Gomez          Bogotá             4   \n",
              "1      18/05/2022  Beatriz Morales        Medellín             1   \n",
              "2      15/03/2021   Juan Fernandez       Cartagena             1   \n",
              "3      03/05/2022   Juan Fernandez            Cali             4   \n",
              "4      07/11/2020    Maria Alfonso        Medellín             5   \n",
              "\n",
              "       Método de pago  Cantidad de cuotas       lat       lon  \n",
              "0  Tarjeta de crédito                   8   4.60971 -74.08175  \n",
              "1  Tarjeta de crédito                   4   6.25184 -75.56359  \n",
              "2  Tarjeta de crédito                   1  10.39972 -75.51444  \n",
              "3               Nequi                   1   3.43722 -76.52250  \n",
              "4               Nequi                   1   6.25184 -75.56359  "
            ],
            "text/html": [
              "\n",
              "  <div id=\"df-3b508def-c7d6-4a02-b7ad-1f517a2f4add\" class=\"colab-df-container\">\n",
              "    <div>\n",
              "<style scoped>\n",
              "    .dataframe tbody tr th:only-of-type {\n",
              "        vertical-align: middle;\n",
              "    }\n",
              "\n",
              "    .dataframe tbody tr th {\n",
              "        vertical-align: top;\n",
              "    }\n",
              "\n",
              "    .dataframe thead th {\n",
              "        text-align: right;\n",
              "    }\n",
              "</style>\n",
              "<table border=\"1\" class=\"dataframe\">\n",
              "  <thead>\n",
              "    <tr style=\"text-align: right;\">\n",
              "      <th></th>\n",
              "      <th>Producto</th>\n",
              "      <th>Categoría del Producto</th>\n",
              "      <th>Precio</th>\n",
              "      <th>Costo de envío</th>\n",
              "      <th>Fecha de Compra</th>\n",
              "      <th>Vendedor</th>\n",
              "      <th>Lugar de Compra</th>\n",
              "      <th>Calificación</th>\n",
              "      <th>Método de pago</th>\n",
              "      <th>Cantidad de cuotas</th>\n",
              "      <th>lat</th>\n",
              "      <th>lon</th>\n",
              "    </tr>\n",
              "  </thead>\n",
              "  <tbody>\n",
              "    <tr>\n",
              "      <th>0</th>\n",
              "      <td>Asistente virtual</td>\n",
              "      <td>Electrónicos</td>\n",
              "      <td>164300.0</td>\n",
              "      <td>6900.0</td>\n",
              "      <td>16/01/2021</td>\n",
              "      <td>Pedro Gomez</td>\n",
              "      <td>Bogotá</td>\n",
              "      <td>4</td>\n",
              "      <td>Tarjeta de crédito</td>\n",
              "      <td>8</td>\n",
              "      <td>4.60971</td>\n",
              "      <td>-74.08175</td>\n",
              "    </tr>\n",
              "    <tr>\n",
              "      <th>1</th>\n",
              "      <td>Mesa de comedor</td>\n",
              "      <td>Muebles</td>\n",
              "      <td>192300.0</td>\n",
              "      <td>8400.0</td>\n",
              "      <td>18/05/2022</td>\n",
              "      <td>Beatriz Morales</td>\n",
              "      <td>Medellín</td>\n",
              "      <td>1</td>\n",
              "      <td>Tarjeta de crédito</td>\n",
              "      <td>4</td>\n",
              "      <td>6.25184</td>\n",
              "      <td>-75.56359</td>\n",
              "    </tr>\n",
              "    <tr>\n",
              "      <th>2</th>\n",
              "      <td>Juego de mesa</td>\n",
              "      <td>Juguetes</td>\n",
              "      <td>209600.0</td>\n",
              "      <td>15900.0</td>\n",
              "      <td>15/03/2021</td>\n",
              "      <td>Juan Fernandez</td>\n",
              "      <td>Cartagena</td>\n",
              "      <td>1</td>\n",
              "      <td>Tarjeta de crédito</td>\n",
              "      <td>1</td>\n",
              "      <td>10.39972</td>\n",
              "      <td>-75.51444</td>\n",
              "    </tr>\n",
              "    <tr>\n",
              "      <th>3</th>\n",
              "      <td>Microondas</td>\n",
              "      <td>Electrodomésticos</td>\n",
              "      <td>757500.0</td>\n",
              "      <td>41000.0</td>\n",
              "      <td>03/05/2022</td>\n",
              "      <td>Juan Fernandez</td>\n",
              "      <td>Cali</td>\n",
              "      <td>4</td>\n",
              "      <td>Nequi</td>\n",
              "      <td>1</td>\n",
              "      <td>3.43722</td>\n",
              "      <td>-76.52250</td>\n",
              "    </tr>\n",
              "    <tr>\n",
              "      <th>4</th>\n",
              "      <td>Silla de oficina</td>\n",
              "      <td>Muebles</td>\n",
              "      <td>335200.0</td>\n",
              "      <td>20200.0</td>\n",
              "      <td>07/11/2020</td>\n",
              "      <td>Maria Alfonso</td>\n",
              "      <td>Medellín</td>\n",
              "      <td>5</td>\n",
              "      <td>Nequi</td>\n",
              "      <td>1</td>\n",
              "      <td>6.25184</td>\n",
              "      <td>-75.56359</td>\n",
              "    </tr>\n",
              "  </tbody>\n",
              "</table>\n",
              "</div>\n",
              "    <div class=\"colab-df-buttons\">\n",
              "\n",
              "  <div class=\"colab-df-container\">\n",
              "    <button class=\"colab-df-convert\" onclick=\"convertToInteractive('df-3b508def-c7d6-4a02-b7ad-1f517a2f4add')\"\n",
              "            title=\"Convert this dataframe to an interactive table.\"\n",
              "            style=\"display:none;\">\n",
              "\n",
              "  <svg xmlns=\"http://www.w3.org/2000/svg\" height=\"24px\" viewBox=\"0 -960 960 960\">\n",
              "    <path d=\"M120-120v-720h720v720H120Zm60-500h600v-160H180v160Zm220 220h160v-160H400v160Zm0 220h160v-160H400v160ZM180-400h160v-160H180v160Zm440 0h160v-160H620v160ZM180-180h160v-160H180v160Zm440 0h160v-160H620v160Z\"/>\n",
              "  </svg>\n",
              "    </button>\n",
              "\n",
              "  <style>\n",
              "    .colab-df-container {\n",
              "      display:flex;\n",
              "      gap: 12px;\n",
              "    }\n",
              "\n",
              "    .colab-df-convert {\n",
              "      background-color: #E8F0FE;\n",
              "      border: none;\n",
              "      border-radius: 50%;\n",
              "      cursor: pointer;\n",
              "      display: none;\n",
              "      fill: #1967D2;\n",
              "      height: 32px;\n",
              "      padding: 0 0 0 0;\n",
              "      width: 32px;\n",
              "    }\n",
              "\n",
              "    .colab-df-convert:hover {\n",
              "      background-color: #E2EBFA;\n",
              "      box-shadow: 0px 1px 2px rgba(60, 64, 67, 0.3), 0px 1px 3px 1px rgba(60, 64, 67, 0.15);\n",
              "      fill: #174EA6;\n",
              "    }\n",
              "\n",
              "    .colab-df-buttons div {\n",
              "      margin-bottom: 4px;\n",
              "    }\n",
              "\n",
              "    [theme=dark] .colab-df-convert {\n",
              "      background-color: #3B4455;\n",
              "      fill: #D2E3FC;\n",
              "    }\n",
              "\n",
              "    [theme=dark] .colab-df-convert:hover {\n",
              "      background-color: #434B5C;\n",
              "      box-shadow: 0px 1px 3px 1px rgba(0, 0, 0, 0.15);\n",
              "      filter: drop-shadow(0px 1px 2px rgba(0, 0, 0, 0.3));\n",
              "      fill: #FFFFFF;\n",
              "    }\n",
              "  </style>\n",
              "\n",
              "    <script>\n",
              "      const buttonEl =\n",
              "        document.querySelector('#df-3b508def-c7d6-4a02-b7ad-1f517a2f4add button.colab-df-convert');\n",
              "      buttonEl.style.display =\n",
              "        google.colab.kernel.accessAllowed ? 'block' : 'none';\n",
              "\n",
              "      async function convertToInteractive(key) {\n",
              "        const element = document.querySelector('#df-3b508def-c7d6-4a02-b7ad-1f517a2f4add');\n",
              "        const dataTable =\n",
              "          await google.colab.kernel.invokeFunction('convertToInteractive',\n",
              "                                                    [key], {});\n",
              "        if (!dataTable) return;\n",
              "\n",
              "        const docLinkHtml = 'Like what you see? Visit the ' +\n",
              "          '<a target=\"_blank\" href=https://colab.research.google.com/notebooks/data_table.ipynb>data table notebook</a>'\n",
              "          + ' to learn more about interactive tables.';\n",
              "        element.innerHTML = '';\n",
              "        dataTable['output_type'] = 'display_data';\n",
              "        await google.colab.output.renderOutput(dataTable, element);\n",
              "        const docLink = document.createElement('div');\n",
              "        docLink.innerHTML = docLinkHtml;\n",
              "        element.appendChild(docLink);\n",
              "      }\n",
              "    </script>\n",
              "  </div>\n",
              "\n",
              "\n",
              "    <div id=\"df-e9df30e0-3be1-4572-a3c8-1bfccac59bf0\">\n",
              "      <button class=\"colab-df-quickchart\" onclick=\"quickchart('df-e9df30e0-3be1-4572-a3c8-1bfccac59bf0')\"\n",
              "                title=\"Suggest charts\"\n",
              "                style=\"display:none;\">\n",
              "\n",
              "<svg xmlns=\"http://www.w3.org/2000/svg\" height=\"24px\"viewBox=\"0 0 24 24\"\n",
              "     width=\"24px\">\n",
              "    <g>\n",
              "        <path d=\"M19 3H5c-1.1 0-2 .9-2 2v14c0 1.1.9 2 2 2h14c1.1 0 2-.9 2-2V5c0-1.1-.9-2-2-2zM9 17H7v-7h2v7zm4 0h-2V7h2v10zm4 0h-2v-4h2v4z\"/>\n",
              "    </g>\n",
              "</svg>\n",
              "      </button>\n",
              "\n",
              "<style>\n",
              "  .colab-df-quickchart {\n",
              "      --bg-color: #E8F0FE;\n",
              "      --fill-color: #1967D2;\n",
              "      --hover-bg-color: #E2EBFA;\n",
              "      --hover-fill-color: #174EA6;\n",
              "      --disabled-fill-color: #AAA;\n",
              "      --disabled-bg-color: #DDD;\n",
              "  }\n",
              "\n",
              "  [theme=dark] .colab-df-quickchart {\n",
              "      --bg-color: #3B4455;\n",
              "      --fill-color: #D2E3FC;\n",
              "      --hover-bg-color: #434B5C;\n",
              "      --hover-fill-color: #FFFFFF;\n",
              "      --disabled-bg-color: #3B4455;\n",
              "      --disabled-fill-color: #666;\n",
              "  }\n",
              "\n",
              "  .colab-df-quickchart {\n",
              "    background-color: var(--bg-color);\n",
              "    border: none;\n",
              "    border-radius: 50%;\n",
              "    cursor: pointer;\n",
              "    display: none;\n",
              "    fill: var(--fill-color);\n",
              "    height: 32px;\n",
              "    padding: 0;\n",
              "    width: 32px;\n",
              "  }\n",
              "\n",
              "  .colab-df-quickchart:hover {\n",
              "    background-color: var(--hover-bg-color);\n",
              "    box-shadow: 0 1px 2px rgba(60, 64, 67, 0.3), 0 1px 3px 1px rgba(60, 64, 67, 0.15);\n",
              "    fill: var(--button-hover-fill-color);\n",
              "  }\n",
              "\n",
              "  .colab-df-quickchart-complete:disabled,\n",
              "  .colab-df-quickchart-complete:disabled:hover {\n",
              "    background-color: var(--disabled-bg-color);\n",
              "    fill: var(--disabled-fill-color);\n",
              "    box-shadow: none;\n",
              "  }\n",
              "\n",
              "  .colab-df-spinner {\n",
              "    border: 2px solid var(--fill-color);\n",
              "    border-color: transparent;\n",
              "    border-bottom-color: var(--fill-color);\n",
              "    animation:\n",
              "      spin 1s steps(1) infinite;\n",
              "  }\n",
              "\n",
              "  @keyframes spin {\n",
              "    0% {\n",
              "      border-color: transparent;\n",
              "      border-bottom-color: var(--fill-color);\n",
              "      border-left-color: var(--fill-color);\n",
              "    }\n",
              "    20% {\n",
              "      border-color: transparent;\n",
              "      border-left-color: var(--fill-color);\n",
              "      border-top-color: var(--fill-color);\n",
              "    }\n",
              "    30% {\n",
              "      border-color: transparent;\n",
              "      border-left-color: var(--fill-color);\n",
              "      border-top-color: var(--fill-color);\n",
              "      border-right-color: var(--fill-color);\n",
              "    }\n",
              "    40% {\n",
              "      border-color: transparent;\n",
              "      border-right-color: var(--fill-color);\n",
              "      border-top-color: var(--fill-color);\n",
              "    }\n",
              "    60% {\n",
              "      border-color: transparent;\n",
              "      border-right-color: var(--fill-color);\n",
              "    }\n",
              "    80% {\n",
              "      border-color: transparent;\n",
              "      border-right-color: var(--fill-color);\n",
              "      border-bottom-color: var(--fill-color);\n",
              "    }\n",
              "    90% {\n",
              "      border-color: transparent;\n",
              "      border-bottom-color: var(--fill-color);\n",
              "    }\n",
              "  }\n",
              "</style>\n",
              "\n",
              "      <script>\n",
              "        async function quickchart(key) {\n",
              "          const quickchartButtonEl =\n",
              "            document.querySelector('#' + key + ' button');\n",
              "          quickchartButtonEl.disabled = true;  // To prevent multiple clicks.\n",
              "          quickchartButtonEl.classList.add('colab-df-spinner');\n",
              "          try {\n",
              "            const charts = await google.colab.kernel.invokeFunction(\n",
              "                'suggestCharts', [key], {});\n",
              "          } catch (error) {\n",
              "            console.error('Error during call to suggestCharts:', error);\n",
              "          }\n",
              "          quickchartButtonEl.classList.remove('colab-df-spinner');\n",
              "          quickchartButtonEl.classList.add('colab-df-quickchart-complete');\n",
              "        }\n",
              "        (() => {\n",
              "          let quickchartButtonEl =\n",
              "            document.querySelector('#df-e9df30e0-3be1-4572-a3c8-1bfccac59bf0 button');\n",
              "          quickchartButtonEl.style.display =\n",
              "            google.colab.kernel.accessAllowed ? 'block' : 'none';\n",
              "        })();\n",
              "      </script>\n",
              "    </div>\n",
              "\n",
              "    </div>\n",
              "  </div>\n"
            ],
            "application/vnd.google.colaboratory.intrinsic+json": {
              "type": "dataframe",
              "variable_name": "tienda1",
              "summary": "{\n  \"name\": \"tienda1\",\n  \"rows\": 2359,\n  \"fields\": [\n    {\n      \"column\": \"Producto\",\n      \"properties\": {\n        \"dtype\": \"category\",\n        \"num_unique_values\": 51,\n        \"samples\": [\n          \"Guitarra ac\\u00fastica\",\n          \"Bal\\u00f3n de baloncesto\",\n          \"Smartwatch\"\n        ],\n        \"semantic_type\": \"\",\n        \"description\": \"\"\n      }\n    },\n    {\n      \"column\": \"Categor\\u00eda del Producto\",\n      \"properties\": {\n        \"dtype\": \"category\",\n        \"num_unique_values\": 8,\n        \"samples\": [\n          \"Muebles\",\n          \"Deportes y diversi\\u00f3n\",\n          \"Electr\\u00f3nicos\"\n        ],\n        \"semantic_type\": \"\",\n        \"description\": \"\"\n      }\n    },\n    {\n      \"column\": \"Precio\",\n      \"properties\": {\n        \"dtype\": \"number\",\n        \"std\": 614686.7653873172,\n        \"min\": 7600.0,\n        \"max\": 2977000.0,\n        \"num_unique_values\": 1937,\n        \"samples\": [\n          2499400.0,\n          14800.0,\n          80500.0\n        ],\n        \"semantic_type\": \"\",\n        \"description\": \"\"\n      }\n    },\n    {\n      \"column\": \"Costo de env\\u00edo\",\n      \"properties\": {\n        \"dtype\": \"number\",\n        \"std\": 32860.0017825605,\n        \"min\": 0.0,\n        \"max\": 160800.0,\n        \"num_unique_values\": 753,\n        \"samples\": [\n          117800.0,\n          54700.0,\n          45600.0\n        ],\n        \"semantic_type\": \"\",\n        \"description\": \"\"\n      }\n    },\n    {\n      \"column\": \"Fecha de Compra\",\n      \"properties\": {\n        \"dtype\": \"object\",\n        \"num_unique_values\": 1018,\n        \"samples\": [\n          \"15/09/2022\",\n          \"03/06/2020\",\n          \"06/11/2021\"\n        ],\n        \"semantic_type\": \"\",\n        \"description\": \"\"\n      }\n    },\n    {\n      \"column\": \"Vendedor\",\n      \"properties\": {\n        \"dtype\": \"category\",\n        \"num_unique_values\": 14,\n        \"samples\": [\n          \"Juliana Costa\",\n          \"Mariana Herrera\",\n          \"Pedro Gomez\"\n        ],\n        \"semantic_type\": \"\",\n        \"description\": \"\"\n      }\n    },\n    {\n      \"column\": \"Lugar de Compra\",\n      \"properties\": {\n        \"dtype\": \"category\",\n        \"num_unique_values\": 19,\n        \"samples\": [\n          \"Bogot\\u00e1\",\n          \"Pereira\",\n          \"Neiva\"\n        ],\n        \"semantic_type\": \"\",\n        \"description\": \"\"\n      }\n    },\n    {\n      \"column\": \"Calificaci\\u00f3n\",\n      \"properties\": {\n        \"dtype\": \"number\",\n        \"std\": 1,\n        \"min\": 1,\n        \"max\": 5,\n        \"num_unique_values\": 5,\n        \"samples\": [\n          1,\n          2,\n          5\n        ],\n        \"semantic_type\": \"\",\n        \"description\": \"\"\n      }\n    },\n    {\n      \"column\": \"M\\u00e9todo de pago\",\n      \"properties\": {\n        \"dtype\": \"category\",\n        \"num_unique_values\": 4,\n        \"samples\": [\n          \"Nequi\",\n          \"Tarjeta de d\\u00e9bito\",\n          \"Tarjeta de cr\\u00e9dito\"\n        ],\n        \"semantic_type\": \"\",\n        \"description\": \"\"\n      }\n    },\n    {\n      \"column\": \"Cantidad de cuotas\",\n      \"properties\": {\n        \"dtype\": \"number\",\n        \"std\": 2,\n        \"min\": 1,\n        \"max\": 24,\n        \"num_unique_values\": 15,\n        \"samples\": [\n          7,\n          14,\n          8\n        ],\n        \"semantic_type\": \"\",\n        \"description\": \"\"\n      }\n    },\n    {\n      \"column\": \"lat\",\n      \"properties\": {\n        \"dtype\": \"number\",\n        \"std\": 2.2874452492678627,\n        \"min\": -4.21528,\n        \"max\": 11.54444,\n        \"num_unique_values\": 19,\n        \"samples\": [\n          4.60971,\n          4.81333,\n          2.9273\n        ],\n        \"semantic_type\": \"\",\n        \"description\": \"\"\n      }\n    },\n    {\n      \"column\": \"lon\",\n      \"properties\": {\n        \"dtype\": \"number\",\n        \"std\": 1.2178272727088486,\n        \"min\": -77.28111,\n        \"max\": -67.9239,\n        \"num_unique_values\": 19,\n        \"samples\": [\n          -74.08175,\n          -75.69611,\n          -75.28189\n        ],\n        \"semantic_type\": \"\",\n        \"description\": \"\"\n      }\n    }\n  ]\n}"
            }
          },
          "metadata": {},
          "execution_count": 70
        }
      ],
      "source": [
        "import pandas as pd\n",
        "\n",
        "url = \"https://raw.githubusercontent.com/alura-es-cursos/challenge1-data-science-latam/refs/heads/main/base-de-datos-challenge1-latam/tienda_1%20.csv\"\n",
        "url2 = \"https://raw.githubusercontent.com/alura-es-cursos/challenge1-data-science-latam/refs/heads/main/base-de-datos-challenge1-latam/tienda_2.csv\"\n",
        "url3 = \"https://raw.githubusercontent.com/alura-es-cursos/challenge1-data-science-latam/refs/heads/main/base-de-datos-challenge1-latam/tienda_3.csv\"\n",
        "url4 = \"https://raw.githubusercontent.com/alura-es-cursos/challenge1-data-science-latam/refs/heads/main/base-de-datos-challenge1-latam/tienda_4.csv\"\n",
        "\n",
        "tienda1 = pd.read_csv(url)\n",
        "tienda2 = pd.read_csv(url2)\n",
        "tienda3 = pd.read_csv(url3)\n",
        "tienda4 = pd.read_csv(url4)\n",
        "\n",
        "tienda1.head()"
      ]
    },
    {
      "cell_type": "code",
      "source": [],
      "metadata": {
        "id": "96mpZFD94_iq"
      },
      "execution_count": null,
      "outputs": []
    },
    {
      "cell_type": "markdown",
      "source": [
        "--------------------------------------------------------------------------------"
      ],
      "metadata": {
        "id": "ULOn8pOp-rEu"
      }
    },
    {
      "cell_type": "markdown",
      "source": [
        "#**🧾 Descripción de los Datos.**"
      ],
      "metadata": {
        "id": "ajT9aafP-vZ_"
      }
    },
    {
      "cell_type": "markdown",
      "source": [
        "-------------------------------------------------------------------------"
      ],
      "metadata": {
        "id": "f-xNjiICEJdu"
      }
    },
    {
      "cell_type": "markdown",
      "source": [
        "El conjunto de datos incluye la siguientes columnas y su respectiva información:\n",
        "\n",
        "- **Producto,Categoría del Producto:** Artículos vendidos y clasificación del artículo. Ambos datos tipo object.\n",
        "\n",
        "- **Precio y Costo de Envío:** Valores de venta y costos asociados a su distribución. Ambos datos tipo float64.\n",
        "\n",
        "- **Fecha de Compra y Lugar de Compra:** Información temporal y geográfica de la compra. Datos para fecha datetime64[ns] y Lugar tipo object respectivamente.\n",
        "\n",
        "- **Calificación:** Evaluación de compra sugiere una nota general del clientes. Sin comentarios adicionales. Dato tipo int64.\n",
        "\n",
        "- **Método de Pago:** Métodos utilizados por los clientes, tipo de pago y cuotas. Dato tipo object.\n",
        "\n",
        "- **lat y lon:** Coordenadas Geográficas en longitud y latitud que sugieren ubicación de las transacciones.Ambos datos tipo float64"
      ],
      "metadata": {
        "id": "sZOSGyFq--Ii"
      }
    },
    {
      "cell_type": "markdown",
      "source": [
        "-----------------------------------------------------------------------------------"
      ],
      "metadata": {
        "id": "y1faeHXukros"
      }
    },
    {
      "cell_type": "markdown",
      "source": [
        "**⚙️ Listas útiles para el análisis.**"
      ],
      "metadata": {
        "id": "yhhmIPaJ1SdH"
      }
    },
    {
      "cell_type": "code",
      "source": [
        "#base_tienda contiene los variables con los datos por tienda.\n",
        "base_tienda = [tienda1,tienda2,tienda3,tienda4]\n",
        "#nombre_tienda contiene los nombres de las tiendas.\n",
        "nombre_tienda = ['Tienda 1','Tienda 2','Tienda 3','Tienda 4']\n",
        "#emojis_ranking_categorias contiene los emojis para rankings de categorías (hasta 8 categorías)\n",
        "emojis_ranking_categorias = ['1️⃣', '2️⃣', '3️⃣', '4️⃣', '5️⃣', '6️⃣', '7️⃣', '8️⃣']"
      ],
      "metadata": {
        "id": "ajPi1C7l2gXf"
      },
      "execution_count": 113,
      "outputs": []
    },
    {
      "cell_type": "code",
      "source": [],
      "metadata": {
        "id": "EoaY-6172NTw"
      },
      "execution_count": 71,
      "outputs": []
    },
    {
      "cell_type": "markdown",
      "source": [
        "##**📌  Cálculos Solicitados.**"
      ],
      "metadata": {
        "id": "ddPSRAYSlbom"
      }
    },
    {
      "cell_type": "markdown",
      "source": [
        "-----------------------------------------------------------------------"
      ],
      "metadata": {
        "id": "sVxMbjcVluav"
      }
    },
    {
      "cell_type": "markdown",
      "source": [
        "\n",
        "###**🖱️ Ventas Totales por Tienda.**\n"
      ],
      "metadata": {
        "id": "X62IW3KFUIYm"
      }
    },
    {
      "cell_type": "markdown",
      "source": [
        "-----------------------------------------------------------------"
      ],
      "metadata": {
        "id": "OTCQ34VMEMax"
      }
    },
    {
      "cell_type": "markdown",
      "source": [
        "**🎯 Objetivo del cálculo:**\n",
        "\n",
        "Determinar cuál tienda ha generado la mayor cantidad de ingresos totales. Este cálculo entrega un primer acercamiento al rendimiento general de cada tienda, reflejando cuánto dinero ha captado a través de sus ventas."
      ],
      "metadata": {
        "id": "W7OenFz4lxsr"
      }
    },
    {
      "cell_type": "markdown",
      "source": [
        "**🧠 Interpretación esperada:**\n",
        "\n",
        "* Las ventas totales indican la capacidad de una tienda para generar ingresos brutos.\n",
        "\n",
        "* Una tienda con un volumen alto de ventas, sugiere mayores ingresos,  precios adecuados o alta demanda.\n",
        "\n",
        "* Una tienda con ingresos bajos podría estar enfrentando problemas en su operación, que abria de investigar.\n",
        "\n",
        "* Aunque no es una métrica definitiva por sí sola, un ingreso total bajo puede ser una señal de alerta sobre su viabilidad."
      ],
      "metadata": {
        "id": "HN6gdtuswSvW"
      }
    },
    {
      "cell_type": "code",
      "source": [
        "#Código cálculo de ventas totales por tienda.\n",
        "#vt_portienda contiene las ventas totales por tienda.\n",
        "vt_portienda = {}\n",
        "\n",
        "#Función ventas_totales suma y totabiliza las ventas de cada tienda.\n",
        "def ventas_totales(base,tienda):\n",
        "  global vt_portienda\n",
        "  vt = base['Precio'].sum()\n",
        "  vt_portienda[tienda] = vt\n",
        "  return vt_portienda\n",
        "\n",
        "#Declaramos función ventas_totales para cada tienda.\n",
        "for base,tienda in zip(base_tienda,nombre_tienda):\n",
        "  ventas_totales(base,tienda)\n",
        "\n",
        "#Importamos las llaves y valores del diccionario vt_portienda para crear DataFrame.\n",
        "key_vt_portienda = list(vt_portienda.keys())\n",
        "val_vt_portienda = list(vt_portienda.values())\n",
        "\n",
        "#Creamos DataFrame df_vt_portienda con valor de columna Tienda y Ventas Totales.\n",
        "df_vt_portienda = pd.DataFrame({'Tienda':key_vt_portienda,'Ventas Totales':val_vt_portienda}).sort_values(by='Ventas Totales',ascending=False)\n",
        "\n",
        "#Visualización Resumen Ventas Totales por Tienda (datos del diccionario vt_portienda)\n",
        "print(f'💰 Ventas Totales por Tienda:\\n')\n",
        "for tienda,ventas in vt_portienda.items():\n",
        "  print(f'🏪 {tienda}:  $ {ventas:>10,.0f} CLP')"
      ],
      "metadata": {
        "id": "F91ttBNu6Lt2",
        "colab": {
          "base_uri": "https://localhost:8080/"
        },
        "outputId": "284c7ae0-8d02-4d32-91c5-9ce35c34bd8b"
      },
      "execution_count": 135,
      "outputs": [
        {
          "output_type": "stream",
          "name": "stdout",
          "text": [
            "💰 Ventas Totales por Tienda:\n",
            "\n",
            "🏪 Tienda 1:  $ 1,150,880,400 CLP\n",
            "🏪 Tienda 2:  $ 1,116,343,500 CLP\n",
            "🏪 Tienda 3:  $ 1,098,019,600 CLP\n",
            "🏪 Tienda 4:  $ 1,038,375,700 CLP\n"
          ]
        }
      ]
    },
    {
      "cell_type": "code",
      "source": [],
      "metadata": {
        "id": "KDyr8E71V3m-"
      },
      "execution_count": 126,
      "outputs": []
    },
    {
      "cell_type": "markdown",
      "source": [
        "----------------------------------------------------------------------------------"
      ],
      "metadata": {
        "id": "HhZb3ENKk0iB"
      }
    },
    {
      "cell_type": "markdown",
      "source": [
        "###**🖱️Ventas por Categoría y Tienda.**"
      ],
      "metadata": {
        "id": "2V_vcAPzWZmR"
      }
    },
    {
      "cell_type": "markdown",
      "source": [
        "-------------------------------------------------------------------------"
      ],
      "metadata": {
        "id": "BuXWsjWxEOp6"
      }
    },
    {
      "cell_type": "markdown",
      "source": [
        "**🎯 Objetivo del cálculo:**\n",
        "\n",
        "Identificar cuáles son las categorías de productos que generan mayores ventas en cada tienda. Este análisis permite comprender el enfoque comercial de cada local y detectar qué líneas de productos tienen mayor aceptación o demanda por parte de los clientes y por ende mayores ingresos."
      ],
      "metadata": {
        "id": "JMLLVHRJl1Do"
      }
    },
    {
      "cell_type": "markdown",
      "source": [
        "**🧠 Interpretación esperada:**\n",
        "\n",
        "* Una categoría con mayores ventas sugiere que la tienda está bien posicionada en ese tipo de producto o que existe alta demanda en su mercado local.\n",
        "\n",
        "* Ayuda a evaluar la estrategia de inversión y oferta de productos de la tienda: en qué está apostando más para obtener mayor margen de ganancia.\n",
        "\n",
        "* También permite comparar si todas las tiendas siguen un patrón similar o si alguna depende demasiado de una sola categoría (lo que puede ser un riesgo).\n",
        "\n",
        "* Si una categoría genera bajo margen de ganancia en una tienda pero es fuerte en otra, podría indicar una oportunidad de mejora o expansión en el surtido."
      ],
      "metadata": {
        "id": "sfE8RS7Mu-Am"
      }
    },
    {
      "cell_type": "code",
      "source": [
        "#Código cálculo de ventas totales por categoría y tienda.\n",
        "#Contiene las ventas totales por categoría y tienda.\n",
        "vt_categoria_tienda = {}\n",
        "#Definimos función venta_categoria_tienda para calcular las ventas totales por categoría en cada tienda.\n",
        "def venta_categoria_tienda(base,tienda):\n",
        "  global vt_categoria_tienda\n",
        "  vt_cat_t = pd.Series(base.groupby('Categoría del Producto')['Precio'].sum(),name= tienda).sort_values(ascending=False)\n",
        "  vt_categoria_tienda[tienda] = vt_cat_t\n",
        "  return vt_categoria_tienda\n",
        "\n",
        "#Declaramos fución venta_categoria_tienda para  cada tienda.\n",
        "for base,tienda in zip(base_tienda,nombre_tienda):\n",
        "  venta_categoria_tienda(base,tienda)\n",
        "\n",
        "#df_vta_categoria_tienda_consolidado almacena de las ventas totales por categoría y tienda.\n",
        "df_vta_categoria_tienda_consolidado = pd.DataFrame(vt_categoria_tienda)\n",
        "\n",
        "#Función resumen_vta_cat_tienda crea visualización de resultados para las ventas por categoría y tienda.\n",
        "def resumen_vta_cat_tienda(tienda,df_emoji):\n",
        "  datos_tienda1 = vt_categoria_tienda.get(tienda).items()\n",
        "  for (cat,valor),emoji in zip(datos_tienda1,df_emoji):\n",
        "    print(f'{cat:>25}:  $ {valor:>12,.0f} {emoji}')\n",
        "\n",
        "#Visualización del resumen de ventas totales por categoría y tienda.\n",
        "print(f'💰 Ventas Totales por Categoría y Tienda.\\n')\n",
        "for tienda in nombre_tienda:\n",
        "  print(f'🏪 {tienda}:')\n",
        "  resumen_vta_cat_tienda(tienda,emojis_ranking_categorias)\n",
        "  print('\\n')"
      ],
      "metadata": {
        "id": "xykobSftV64I",
        "colab": {
          "base_uri": "https://localhost:8080/"
        },
        "outputId": "70893288-b836-4e0c-a24b-105814ab8d36"
      },
      "execution_count": 137,
      "outputs": [
        {
          "output_type": "stream",
          "name": "stdout",
          "text": [
            "💰 Ventas Totales por Categoría y Tienda.\n",
            "\n",
            "🏪 Tienda 1:\n",
            "             Electrónicos:  $  429,493,500 1️⃣\n",
            "        Electrodomésticos:  $  363,685,200 2️⃣\n",
            "                  Muebles:  $  187,633,700 3️⃣\n",
            "   Instrumentos musicales:  $   91,299,000 4️⃣\n",
            "     Deportes y diversión:  $   39,290,000 5️⃣\n",
            "                 Juguetes:  $   17,995,700 6️⃣\n",
            "  Artículos para el hogar:  $   12,698,400 7️⃣\n",
            "                   Libros:  $    8,784,900 8️⃣\n",
            "\n",
            "\n",
            "🏪 Tienda 2:\n",
            "             Electrónicos:  $  410,831,100 1️⃣\n",
            "        Electrodomésticos:  $  348,567,800 2️⃣\n",
            "                  Muebles:  $  176,426,300 3️⃣\n",
            "   Instrumentos musicales:  $  104,990,300 4️⃣\n",
            "     Deportes y diversión:  $   34,744,500 5️⃣\n",
            "                 Juguetes:  $   15,945,400 6️⃣\n",
            "  Artículos para el hogar:  $   14,746,900 7️⃣\n",
            "                   Libros:  $   10,091,200 8️⃣\n",
            "\n",
            "\n",
            "🏪 Tienda 3:\n",
            "             Electrónicos:  $  410,775,800 1️⃣\n",
            "        Electrodomésticos:  $  329,237,900 2️⃣\n",
            "                  Muebles:  $  201,072,100 3️⃣\n",
            "   Instrumentos musicales:  $   77,380,900 4️⃣\n",
            "     Deportes y diversión:  $   35,593,100 5️⃣\n",
            "                 Juguetes:  $   19,401,100 6️⃣\n",
            "  Artículos para el hogar:  $   15,060,000 7️⃣\n",
            "                   Libros:  $    9,498,700 8️⃣\n",
            "\n",
            "\n",
            "🏪 Tienda 4:\n",
            "             Electrónicos:  $  409,476,100 1️⃣\n",
            "        Electrodomésticos:  $  283,260,200 2️⃣\n",
            "                  Muebles:  $  192,528,900 3️⃣\n",
            "   Instrumentos musicales:  $   75,102,400 4️⃣\n",
            "     Deportes y diversión:  $   33,350,100 5️⃣\n",
            "                 Juguetes:  $   20,262,200 6️⃣\n",
            "  Artículos para el hogar:  $   15,074,500 7️⃣\n",
            "                   Libros:  $    9,321,300 8️⃣\n",
            "\n",
            "\n"
          ]
        }
      ]
    },
    {
      "cell_type": "code",
      "source": [],
      "metadata": {
        "id": "kENm3TfH6Nwo"
      },
      "execution_count": 72,
      "outputs": []
    },
    {
      "cell_type": "markdown",
      "source": [
        "----------------------------------------------------------------------------------"
      ],
      "metadata": {
        "id": "QoJzkts3k3Gl"
      }
    },
    {
      "cell_type": "code",
      "source": [],
      "metadata": {
        "id": "A34YupIuYhfF"
      },
      "execution_count": 72,
      "outputs": []
    },
    {
      "cell_type": "code",
      "source": [],
      "metadata": {
        "id": "yZR6cOjXYSk1"
      },
      "execution_count": 72,
      "outputs": []
    },
    {
      "cell_type": "markdown",
      "source": [
        "---------------------------------------------------------------------------------"
      ],
      "metadata": {
        "id": "MfdneuN6k5QH"
      }
    },
    {
      "cell_type": "markdown",
      "source": [
        "###**🖱️ Productos Más y Menos Vendidos por Tienda.**\n"
      ],
      "metadata": {
        "id": "Rq6tU_xSY3jk"
      }
    },
    {
      "cell_type": "markdown",
      "source": [
        "-----------------------------------------------------------------------"
      ],
      "metadata": {
        "id": "g8R4SVXiEQs_"
      }
    },
    {
      "cell_type": "markdown",
      "source": [
        "🎯 **Objetivo del cálculo:**\n",
        "\n",
        "Determinar qué productos tienen mayor y menor volumen de ventas en cada tienda. Este análisis permite identificar los productos con alta o baja rotación, es decir, qué tan frecuentemente se venden."
      ],
      "metadata": {
        "id": "6A8TCHbel3Gc"
      }
    },
    {
      "cell_type": "markdown",
      "source": [
        "**🧠 Interpretación esperada:**\n",
        "\n",
        "* Un producto muy vendido (alta rotación) puede ser indicativo de popularidad, accesibilidad en precio o fuerte necesidad del cliente.\n",
        "\n",
        "* Un producto con pocas ventas puede deberse a:\n",
        "\n",
        " Falta de promoción, Alto precio,Baja demanda local.\n",
        "\n",
        "* Sin embargo, una alta rotación no garantiza rentabilidad: si el margen de ganancia es bajo, el producto podría no contribuir significativamente a las utilidades.\n",
        "\n",
        "* Este análisis es útil para revisar la eficiencia del mix de producto y para evaluar si ciertos productos justifican su espacio en inventario o deberían ser reemplazados."
      ],
      "metadata": {
        "id": "5zUZ83WFuk_q"
      }
    },
    {
      "cell_type": "code",
      "source": [],
      "metadata": {
        "id": "yDciUnZU6OtV"
      },
      "execution_count": 72,
      "outputs": []
    },
    {
      "cell_type": "code",
      "source": [],
      "metadata": {
        "id": "owHtvND96Oyv"
      },
      "execution_count": 72,
      "outputs": []
    },
    {
      "cell_type": "markdown",
      "source": [
        "---------------------------------------------------------------"
      ],
      "metadata": {
        "id": "4KVOWq48k7Oe"
      }
    },
    {
      "cell_type": "code",
      "source": [],
      "metadata": {
        "id": "bh3jjjJwY5MU"
      },
      "execution_count": 72,
      "outputs": []
    },
    {
      "cell_type": "code",
      "source": [],
      "metadata": {
        "id": "I0KkjPoTY88F"
      },
      "execution_count": 72,
      "outputs": []
    },
    {
      "cell_type": "markdown",
      "source": [
        "--------------------------------------------------------------------------"
      ],
      "metadata": {
        "id": "SV8GPrdHk-u8"
      }
    },
    {
      "cell_type": "markdown",
      "source": [
        "###**🖱️ Valoración Media por Tienda.**"
      ],
      "metadata": {
        "id": "DmNp1KPBZCm-"
      }
    },
    {
      "cell_type": "markdown",
      "source": [
        "---------------------------------------------------------------------------------"
      ],
      "metadata": {
        "id": "k3qLG8RxESxD"
      }
    },
    {
      "cell_type": "markdown",
      "source": [
        "**🎯 Objetivo del cálculo:**\n",
        "\n",
        "Evaluar la experiencia general de compra que ofrecen las distintas tiendas, a través del promedio de calificaciones otorgadas por los clientes. Esto permite detectar niveles de satisfacción o posibles problemas en el servicio."
      ],
      "metadata": {
        "id": "DNXaLG6Rl4W1"
      }
    },
    {
      "cell_type": "markdown",
      "source": [
        "**🧠 Interpretación esperada:**\n",
        "\n",
        "* Una valoración media alta sugiere que la tienda ofrece una buena experiencia de compra en terminos generales.\n",
        "\n",
        "* Una valoración baja puede ser síntoma de deficiencias en uno o varios puntos del servicio, lo cual impacta negativamente en la percepción del cliente y en la imagen de la tienda.\n",
        "\n",
        "* Aunque no está directamente ligado al ingreso, una mala experiencia puede afectar la fidelización y, a largo plazo, reducir las ventas.\n",
        "\n",
        "* Comparar las valoraciones entre tiendas ayuda a identificar buenas prácticas y áreas críticas a mejorar."
      ],
      "metadata": {
        "id": "wRF37AnErFO3"
      }
    },
    {
      "cell_type": "code",
      "source": [],
      "metadata": {
        "id": "YGAA2TDT6QKW"
      },
      "execution_count": 72,
      "outputs": []
    },
    {
      "cell_type": "code",
      "source": [],
      "metadata": {
        "id": "JtDI_nSv6QR9"
      },
      "execution_count": 72,
      "outputs": []
    },
    {
      "cell_type": "markdown",
      "source": [
        "--------------------------------------------------------------------------------"
      ],
      "metadata": {
        "id": "fPZKNgi3lA7D"
      }
    },
    {
      "cell_type": "code",
      "source": [],
      "metadata": {
        "id": "qoyjqijQZHfF"
      },
      "execution_count": 72,
      "outputs": []
    },
    {
      "cell_type": "code",
      "source": [],
      "metadata": {
        "id": "0Sw3sd4IZIGW"
      },
      "execution_count": 72,
      "outputs": []
    },
    {
      "cell_type": "markdown",
      "source": [
        "---------------------------------------------------------------------"
      ],
      "metadata": {
        "id": "xF9AehT5lDTb"
      }
    },
    {
      "cell_type": "markdown",
      "source": [
        "###**🖱️ Costo Promedio de Envío por Tienda.**"
      ],
      "metadata": {
        "id": "Fl0cGi3bZKqU"
      }
    },
    {
      "cell_type": "markdown",
      "source": [
        "**🎯 Objetivo del cálculo:**\n",
        "\n",
        "Calcular el costo logístico promedio por venta en cada tienda. Esta métrica permite evaluar la eficiencia en la distribución, considerando ubicación, cobertura y volumen de pedidos.\n",
        "Esta métrica también es útil para detectar oportunidades de optimización logística, especialmente si hay tiendas con ingresos similares pero costos mucho más altos."
      ],
      "metadata": {
        "id": "vuRaGqAYl5nl"
      }
    },
    {
      "cell_type": "markdown",
      "source": [
        "🧠 Interpretación:\n",
        "\n",
        "* Un costo de envío promedio elevado puede estar asociado a:\n",
        "\n",
        " Baja concentración de clientes en la zona (poca densidad de pedidos),\n",
        "\n",
        " Mala ubicación geográfica respecto a los centros de distribución,\n",
        "\n",
        " Problemas logísticos u operativos (derivado de problemas internos o acuerdos con proveedores de servicio).\n",
        "\n",
        "* Una tienda con costos de envío más bajos generalmente tiene mejor eficiencia de reparto o una clientela más cercana o agrupada."
      ],
      "metadata": {
        "id": "PiDZ0l3ms1EC"
      }
    },
    {
      "cell_type": "markdown",
      "source": [
        "----------------------------------------------------------"
      ],
      "metadata": {
        "id": "lQ6CYItjlFJX"
      }
    },
    {
      "cell_type": "code",
      "source": [],
      "metadata": {
        "id": "S2JeaCykZNy9"
      },
      "execution_count": 72,
      "outputs": []
    },
    {
      "cell_type": "code",
      "source": [],
      "metadata": {
        "id": "0tSdCie9ZQlt"
      },
      "execution_count": 72,
      "outputs": []
    }
  ]
}